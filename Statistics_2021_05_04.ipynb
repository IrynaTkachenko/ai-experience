{
  "nbformat": 4,
  "nbformat_minor": 0,
  "metadata": {
    "colab": {
      "name": "Statistics_2021_05_04.ipynb",
      "provenance": [],
      "collapsed_sections": [],
      "toc_visible": true,
      "authorship_tag": "ABX9TyOCcfYalqEF7YwVih+uIgy4",
      "include_colab_link": true
    },
    "kernelspec": {
      "name": "python3",
      "display_name": "Python 3"
    },
    "language_info": {
      "name": "python"
    }
  },
  "cells": [
    {
      "cell_type": "markdown",
      "metadata": {
        "id": "view-in-github",
        "colab_type": "text"
      },
      "source": [
        "<a href=\"https://colab.research.google.com/github/IrynaTkachenko/ai-experience/blob/main/Statistics_2021_05_04.ipynb\" target=\"_parent\"><img src=\"https://colab.research.google.com/assets/colab-badge.svg\" alt=\"Open In Colab\"/></a>"
      ]
    },
    {
      "cell_type": "markdown",
      "metadata": {
        "id": "0fWCftOnrOCs"
      },
      "source": [
        "#Статистика. Основні поняття\n",
        "\n",
        "Описова\t статистика – вивчає\t властивості\t спостережуваних\t\n",
        "даних.\t \n",
        "\n",
        "Вивідна\t статистика – виводимо\t припущення\t про\t\n",
        "властивості\t розподілу\t даних\t з\t яких\t походять\t спостережувані\t\n",
        "дані.\n",
        "\n",
        "Генеральною сукупністю називають безліч всіх об'єктів, з яких проводиться відбір (вибір) з метою їх обстеження. За кількістю, що містяться в них об'єктів (елементів) розрізняються кінцеві і нескінченні генеральні сукупності. \n",
        "\n",
        "Вибірковою сукупністю або просто вибіркою називають безліч випадково відібраних об'єктів (елементів) із генеральної сукупності. \n",
        "\n",
        "Об'ємом вибірки називають число об'єктів (елементів) цієї вибіркової сукупності.\n",
        "\n",
        "Вибірку називають репрезентативною, якщо в ній присутні ті й тільки ті значення випадкової величини, що і в генеральній сукупності, причому частоти наявних у ній даних знаходяться практично в тих же відносинах, що і в генеральній сукупності."
      ]
    },
    {
      "cell_type": "markdown",
      "metadata": {
        "id": "kGu2665Lm4yq"
      },
      "source": [
        "##Позначення \n",
        "|  Символ     | Опис    | Description|\n",
        "|--------|--|--|\n",
        "N| розмір генеральної сукупності | population size\t \n",
        "n| розмір вибірки |\tsample size\t \n",
        "$x_i$| \tспостереження | observation\t\n",
        "μ| середнє по генеральній| \tpopulation mean\t \n",
        "$\\bar x$| середнє по вибірці| \tsample mean\t \n",
        "$σ^2$| дисперсія по генеральній| \tpopulation variance\t \n",
        "$s^2$| дисперсія по вибірці| \tsample variance\t \n",
        "σ| середньоквадратичне відхилення | \tpopulation standard deviation\t \n",
        "s| середньоквадратичне відхилення| \tsample standard deviation\t \n",
        "SE| стандартна помилка| \tstandard error\n",
        "CL| рівень довіри | \tconfidence level\n",
        "CI| довірчий інтервал | \tconfidence interval\n",
        "Z|  | \tstandard normal distribution variable\n",
        "α| рівень значущості| \tsignificance level\n",
        "zα/2| | \tcritical value from z-table, two-tailed\n",
        "tα/2| | \tcritical value from t-table, two-tailed\n",
        "df| | \tdegrees of freedom (n-1)\n",
        "$\\beta$| | gradient beetwen 2 variables\n",
        "$\\pi$| | proportion of categorial valiable\n",
        "\n",
        "\n",
        "\n",
        "p-значення(${p-value}$) — імовірність що статистичні суми (наприклад різниця середніх значень вибірки при порівнянні двох груп) будуть однакові або матимуть більші значення ніж для фактично отриманих результатів при умові що нульова гіпотеза є істиною."
      ]
    },
    {
      "cell_type": "markdown",
      "metadata": {
        "id": "jzGB_-q2QWiz"
      },
      "source": [
        "##Математичне очікування\n",
        "\n",
        "Нехай розподіл за ймовірностями P значень деякої випадкової величини X задано таблицею:\n",
        "\n",
        "\\begin{matrix}\n",
        "X\t& X1\t&\tX2\t&\t...\t& Xn−1\t&\tXn \\\\\n",
        "P\t&\tP1\t&\tP2\t&\t…\t& Pn−1\t&\tPn\n",
        "\\end{matrix}\n",
        "\n",
        "Тоді число E, де E=X1⋅P1+X2⋅P2+...+Xn−1⋅Pn−1+Xn⋅Pn, називають математичним очікуванням (або середнім значенням) випадкової величини X.\n",
        "\n",
        "\n"
      ]
    },
    {
      "cell_type": "markdown",
      "metadata": {
        "id": "1j9kz26PVzOT"
      },
      "source": [
        "##Центральні тенденції вибірки\n",
        "\n",
        "![image.png](data:image/png;base64,iVBORw0KGgoAAAANSUhEUgAAAUoAAAD4CAYAAACKXK/PAAAgAElEQVR4Ae2dB9gU1dXHEWyoUbAGFTVqjJoPsSBq0FgiKLFEjSSiImBDURILXcEKBpUoRqQLCigqSgfpAqK80kV6kyq993a+53fXO+/svrOzs7szu7P73vs8d2d25tZzZ/5z7jnnnltCTDAUMBQwFDAUcKVACde75qahgKGAoYChgGQNKAcPHizjxo0zQ2AoYChgKBB6CmQNKP/6179K/fr1Q08g00BDAUMBQwEDlOYZMBQwFDAUSEABA5QJCGRuGwoYChgKGKA0z4ChgKGAoUACChigTEAgc9tQwFDAUMAApXkGfKfAhl92yoAP50mTGiPl6VuGyOftZ8ua5dt9r8cUaCiQKQoYoMwUpYtBPXt3H5DWT0yQSod1kitKREeuPX/XcNm8fncxoITpYr5RwABlvo1olvqzc9s+qXN1vyiAvLpEe7muxHtR16qf2UuWzt2cpVaaag0FUqOAJ6AsUaKE6BivmhkzZki1atXk2GOPldNPP126desWL6m6buwoXcmTUzf37jkg9W4cZAHi3y/8TMa+OlB2ljhK9pY4XCa+8Ik8dv1A63613/aUZfO35FQfTWOLNwU8AaUmEWDpFObPny/ly5eXXr16yaZNm2TZsmVSs2ZNp6TWNQOUFily/qTts99ZIPhwlQGyc/s+kTFjRHheiH37ysEDh+Q/9SdY6QDTHVv35nzfTQeKBwWckS9O3+MBJaD4/vvvx8nlfNkApTNdcu1qwciVlkzy7t/3kW2bfwW/GKCkX4cOibzy8DcWWDa6Z0Sudde0t5hSwBegPO2006RFixZSrlw5OfHEE+Whhx6SzZud5VBr1qyRBQsWyA033GCWMOb4Q7dv70G5+4I+CviuOqKLzP5hXWGPHICSm0zT617T3wLLIT0XFOYxZ4YCIaWAL0BZqlQpefDBB2Xt2rUq3nfffVKnTh3HLj/wwANK3nn44YcboHSkUO5c/PitmRbg/a9pQXTD4wAliVYt2SbXHfehynvjiT1k0zqjCY8mnvkXNgr4ApTHH3+8rFtXyE0AmCeffLJjXw1H6UiWnLuIfPHGsj0U2N1Srqeg9Y4KLkBJuqdatLdAtkmdwVFZzR9DgbBRwBegvPbaaxUnqTsHUJ5yyin6r+PRyCgdyZIzFz9sPd0Cuq86zy3a7gRA+fb0tnLhOc1UGVeW7Czzpq0vWoa5YigQEgqkBZRauYMpEFNq+9S7bt26rl00QOlKnlDf3L1zv9x8ykcK5P5avrcgqywSEgBl25lt5dgm58oVh3VU5TSoPrRIEeaCoUBYKOAJKLUNpf1IBzRQct6yZUs13S5btqzUqlUrrjJHd9wApaZE7h3hIPXKm8/+95NzBzwAZYlOJeTcKx63ypo+4RfnssxVQ4EsU8ATUAbRRgOUQVA1M2XWrNhXgdsNZbrLrh37nSv1CJRHv1xOrizVWZX3xE2DnMsyVw0FskwBA5RZHoBcqx6uT3OTGJrHDR6BEq7y2X8WrtqZNWlt3CLNDUOBbFHAAGW2KJ+j9b5Ue6wCSpxcLFvgsgwxCaAcN+lHy2j9ub8Nz1HKmGbnMwUMUObz6PrcN6bZ2v7xsT8PdC89CaBcvHWxPHPncAXAaMCXzHUBYPdai9ddvUSU4z/+UbTv995buIyUNE5h2DCR228XwUrl8MMjR/6PSLBqyl537LlTPQUFIuyRddFFIkcdJVK6tMiFF4o0aiSycaNTjlBdi0O94NtoZJTB09jvGgZ/NN+adg/oNs+9+CSBsk2nwin9sw996162uRuhgAYoAI64alUhZVaujFzjuk5XeDdy1rx54T2dxn5s2TI2R+F/e7rY88JUhWexaez/zz1XZH24zcMMUBYOpTlLQIH6VYcooKxyTLfEDi2SBMpek0QuOvlLVf6fjvmwcM14gjYV69sabGrUiABeixaF5Hjxxcg1OE2drvCuyNChkeuHHRbh9ObMEdm5U2T2bJHHHivMM9xBFLJvX+F9e5lO9ej7118v0ru3yPLlIuSHi4RrvfLKSFnPPqtThvJogDKUwxK+RuFwt/LhXRSQNbtvVOIGpgCUJ924wOJYP3l3VuI6insKDUzjx0fA5rTTRPbujcRTT41c0/dIaw9//Wvk/lNP2a8WnmuwZBoeG7Zti+SFW7UH3R77tUTnACf5fv/7RCmzej+Geplri5l6Z47WftRkt50c89XSxEWmAJSHPXpQKpb+WIElbtjwNpRTYfFikYkT/Yk/xbFPtRPEDkwVK0YAp1cvkZ49I+eXXBJJbU+n87PEmOtwkk4BzpL7TivsFiyI3CtTJjqnUz06xaxZIo88InLBBSLHHBPJr9NzPPponTKURwOUoRyW8DXqqWqF025W5iQMKQBlicdFzqw4yeIqp36zOmE1oUpQr15RALCDQTLnN96YuGu6PFJ26RKp++qrRa66KnLeuXOkDHs6XaqWXTLddgpcJ18s10jar7+O3NNArPM71aPTH3lkJI9O43TU5YTwaIAyhIMStiZt3bRHcKOG/WTTf4z01rwUgfKo+7YKmm/qevGB0d7qCkuqXbtEcC/oR9yxI3GvNNiQkrrLli0EI7g9DYL2dLrUdDhKlDyUGeshzKke6tPcLs68J0+O0OfAgUhL9DSevCEOWWudmXqH+KmIadrXnyy0uLzhfRbF3I3zN0WghKu8v8pgVd+fSnczSp045FWXY4GpYcNCoHzuucKcsem4k0hG+cQTkbJiZZTIQ5g+U+agmJVUTvVQl+YmN2wobJM+69GjsM36WgiPBihDOChhaxLKGzg8uErLg3miRqYBlO+9UwjMX3wwO1FNxfd+LDAtWSJSsqQImuxFtg9abDooNmRIBKBIi0JHa705PvlkpAzyYWepw549Ig0aRPJdcUXEZb2+x9GpHq6ffXbkHnaUP/8cUTbR1jfeiNhTxstnLzvL5wYoszwAYa/+wP6Dlt/JpNZipwGU4+ccsOqsdeVXYSdR9trnFWDipWvcuBDcdBr7ETtLe7Df83Ku8773Xvx6AGldlk4fwqMByhAOSpiahEJFr+3u/d8fvTctDaD8brHIG08WbkS2ZI7ztiLeG5OnKb0CjFs6OEum4cgsUdxwvO22aE5Sk0+X4/Wo83H84gsRFE0nnCBy3HER+8muXSMpdHn29CE7N0AZsgEJW3PY4kEDpeva7tiGpwmUP36/1qr3/WYx20zE1mX+Z4YCXgHNa7rMtNqXWgxQ+kLG/C3k/ssiq2XuOOeT5DqZJlBS2T1/+EyBZfUzesnBg7lmVJkcuXIitVcA9JouJzodaaQByhwarEw3dePaXZZXn9ZPTEiueh+AssurUy2uMudsKpOjVm6k9gqAXtPlRq9VKz0BZaxn83j9W79+vZQvXz7K83m8tMY8KB5lwnN9aK9C7bOn1Tj2pvsAlCsXb7WAulW98fbSzbmhQEYp4AkodYvsWz/oa/Zj/fr1pXXr1gYo7UTJ4XPte5I13tu37E2uJz4AJRXWvqqf4ipvOukj2b/PYW+e5FplUhsKpEQB34By7ty5ct5558nu3bsNUKY0FOHLxMZhKHLqXtM/+cb5BJQ4x9DKpAmDlyXfDpPDUMAHCvgGlEyle+NGKWbTsdg2TpkyRfr16yeVKlUSOFATwkmB5Qu3WgDVvvkPyTfSJ6Bcv3qntaSxRa0xybfD5DAU8IECvgDliBEjpHLlynLoV3cvblP02rVryxFHHCFHHnmkAUofBjCoIr7sNMcCyoJRK5OvxiegpOLHbxik2nLdbz6UPbs8OORIvrUmh6GAKwV8AcoKFSrIhAmFWlE3oNStMcocTYlwHvWyxauP7CKevAXFdsNHoPy8/WwLtMf28+DiLbYt5r+hQJoU8AUo7Vpx+7lb2wxQulEn+/duKddTgVPCvXHiNdVHoNy4Zpe1pe0L9+eYR6F49Clm19ltk5irIamWx3KKsf81EeJd1/c5GqC0UyNc56zA0QqUji0np9Y4H4GSBrDOnDb9+fjusnf3ry66UmuZyZUFChQLoLRzifocWscDxHjX7eNjgNJOjXCd9+861wLKlOSTdMdnoLRPv8cN/DlcBDOtyXsKJMVR+kkNA5R+UtPfsuz2kzu370utcJ+B0j79pn0mGApkkgIGKDNJ7Ryp62/nfao4yocq90u9xT4DJQ159LoBql03lu1hjM9THxmTMwUKGKBMgWj5nGXdqp3WtPud579PvasBAOWn7QqNzyeNWJF62/Ikp5b7cfzHyH8U6dW9I+9VChSdrkgCEflx449SZ2wdOeeTc+SorkfJbz78jVTuV1nazWon+w/GN8XSZTodnerR6WLvFawtkPoT6stFn12k6i/drbRc+NmF0mhSI9m4Z2NscvU/Xlk6cbz7qdRllalPMn00U+9MU9xbfSM/X2wBZVqmOAEA5S/Ltltrv/FXWdyDBoTDuxwuxFU7V1kkWbljpbrGdZ3OuvnrSbd53eSILkdY93U6fbxh0A2y58Ce2Gzqv07jdHTKoNPF3tPXnY7nfnqurN+9PjaL1d4iN369oMuKva+vOx3j1aXLMBylpoQ5Kgq0feY7CyiRC6YcAgBK2lKr0leqfdV+27PYu17TL3yNkTUUeLSY3MIarhcnv6iuwWnqdNZNEZm8brKU6lxKTuh+guIel2xbIrsP7JYNuzfIwJ8HKq6OfK9OfdWeTZ3vO7jPsUynenTmePeuH3i99F7YW5ZvXy6UCxc5YsUIufKrK1Udz373rC7COsYrSyeIdz+Vuqwy9Ummj4ajzDTFvdWnnVDcdf6n3jLESxUQUHZrNc0C8pkT18SrvVhc14Aw/pfxClRO+/g02Xtwr4qnfnyquqbvkdYe/jnqn+r+sOW2PXFsCeZtnqfuMw2ODdv2bVP34FbtQbfHfk2fu93TaexHgJM8v+/ze/tldZ6orET3Ywt0q0unjaaevpqBowHKDBA5ySpYHshKHOwV015XHRBQsi2EtvFs12hSkj3Mr+R2QKjYt6ICll4Le0nPBT3V+SVfXKI6bE+nKVCuZzmVBq6SWLJzSRUP63SYEHWeI7scqbNYxwVbFqj7ZbqXsa5xovNEXfz1T7x7szbOkkfGPSIX9LlAjul2jFWGTn9016OLFKfvJTrGZkylLl2GAUpNCXOUaeN/sUDoy45z0qNIQEBJo7Tn87S53vR6WCT3t798K53ndvYlDlk2pEj5sRc0UHC9y9wuCmSu7ne1XNXvKnVOWwj2dLoMN9mkTq+POo8+fr3ia1WmBmJ9PV567jvdoxyAWN+Ld9Tl62O8dLHXdXqOqdalyzBAqSlhjvJRmxkWUM6f4bAHczI0ChAo2zWeZLVz8exNybQq0LRNC5rK6T1P9yU6abFjG6+Bgeu79u+Ssj3KWqADt7dz/06VxZ5Ol3HKR6eotPO3zNeXPB9bTm6p8qIttwenevR9p3uaC645uqaSmW7eu1kOHIqsutLTe/LFBqey7Gmc7qdaly63aCv0nYCPZuodMIFTKL7RPSMUAOGl5+CBNPeoCRAokU3q6feHraen0NP8yBILCA2/b2gB5XPfP2d1MjYdN7QCiGlvMuGQHFLTZMoctGxQVFanenQCp3uam0SBFBt6zO9h9SX2nlNZ9jRO91OtS5drgFJTwhyl+pm9FADh1iztECBQstEYWm/Ass7VaRjFp93J7BYQCwhorpE1ImNctHWR1bjYdNyYvmG6ZRp0x9d3yPAVw5V5EbaTW/ZuURze2zPfliu+vMIqB1OhBhMbKADjOqBpD0716PtO987ufbYqCzvKn7f/rJRQ9OGN6W8I9pROeSgv3vUg6rLK1CeZPhqOMtMUd69v7YodFpfGFrVphwCBkra9/tg41d4rS3YWnPsWx5AIMDRN4qX7csmXctyHx1nAo9PFHmPLib0f77/Ox1GnsV97b9Z71nV9Xx+f+vYp6549T7yy7Gl0GfZrqdalyzAcpaZEMT+O7rvEAsq0DM01HQMGyvGDllnt/arzXF1rsTo6AYITAdzSrdixQpoVNJPLv7xcju9+vNKAI99kdc5LU16S2ZtmW0XqcrwerYxxgJL7Xyz+QlBAYc8JaGM/2XVuV5VV12Mvh/N413W6ePdTqcsqU59k+mg4ykxT3L2+95oUWMCzduUO98Re7gYMlJgyXXtsN9XmZ253tgX00kyTxjsF4gFQbAle08XmC/N/w1GGeXQy2Da93QJySl9CwEBJG5+/a7gCyj+V7ia7dsRfl+xLf0whCTk5TSIDlJoSPhwNR+kDEX0qAuUIDnFRjqD59iVkACgHdJtnccHf9DdbRPgybi6FeAVAr+lcqgrdLcNRhm5IMt8g+2qXHv/xydwmA0C5ce0ua4fGVx8Zl3nCmRqLDQU8AaX2ah7Pc/mwYcPkpptukqOPPlrKlSsnjzzyiGzYUNQ2yk5Vw1HaqZHd88Efzbc4s5Q9msd2IQNASZWYB8EJVz3142LvJCN2CMx//yjgCSh1dfGAsmrVqjJ06FDZvn27rF27VurVqye33XabzuZ4NEDpSJasXHzrXxMV2FQ6rJNs3eTsVivphmUIKDE418bnsyatTbqZJoOhgBcK+AKUsRVt27ZNjj/++NjLUf8NUEaRI6t/NFd29wV9/GtHhoBy0ayNFlC2f+EH/9pvSjIUsFEgEKDs37+/XHfddbZqCk8HDBggrVq1kosuukjq169feMOcZYUCB/YfFLTGcGXNa/q4FWyGgBKi3XHOJ6r9NSv2zQoNTaX5TwHfgXLatGly5plnyvTpzkqB5s2bS8WKFaVs2bIGKEPwfOH8Qk9de7Wd6V+LMgiUbZ7+1uoDXtBNMBTwmwK+AuXYsWMVSI4bl1gDaabefg9lauUN+LDQxGbK2MKtBFIrzZYrg0D5/fAVFlCyra0JhgJ+U8A3oOzTp4+cfvrpUlDgbZ2wAUq/hzK18jQ3hiJn+5a9qRXilCuDQLl3zwHB4xGccYPqQ51aY64ZCqRFgbSAUmvB27ZtK2eddZbMmePd2asByrTGzbfMgShyaF0GgZLqtIu4a47qKinvRe4bVU1B+UYBT0Bpt6PU5xBCA6W+FnvEXCheMEAZjzKZu47PySrHBKDIoQsZBkq7CMGs0sncM1RcavIElEEQwwBlEFRNrky7ac1Hb85ILnOi1BkGSnaMxOUa0+/XHk0sI0/UfHPfUMBOAQOUdmoUs3P7ipwfRvuoyIGOGQZKqtQ7SN5SrqccivYpW8xG1nTXbwoYoPSbojlU3tv/DmBFju5/FoCy62tTLe337MnrdEvy+vj9YpF/dhY5o7HIEU+KnPisyO3viwyPo/z/caVInR4i5zQTOaq+yG/+JVK5tUi70SL7DxYlVYnHRYjce2WQyLnNI/nOe0Hk1cEie+M4bUq2Hl2zrs/pqNPYjzqd/Zr93O3+pCUi93URObOJyJH1Rc5qKnJvR5FvC53DW0UZoLRIUfxOHvvzQAUsd/zuE/87nwWgnD+90Ca000tT/O9TyEp8e4RIyXoRINOAYD/GNrfbtxEwtaexn9/wtsieGODT92t96FzP39rH1iKSSj26FF2f01GnsR91Ovs1+3m8+++MSo52BijtVC1G50xNrz/BZ9dqdvplASip/vazeyvwr1XpK3tr8u78m/kih/0KkoDY1GUi2/eIbN4pMvhHkWrvRnd58s8ipZ4QOeHfEe5xyXqR3ftENuwQGThT5MKWESCES7QHDTRwn++OElmzVeSXrZFzrnH/E9vK0VTroc59BwrB2KkN9mv6XLdP/489Ot0fvyBCu7LPREB99ZYIx7x8k8gXU0X+1Ca2FBEDlEVpUiyurFi01ZqmMmX1PWQJKFs/MUH1C7tQXzy1+04YfwqEkwMEHv3YW3lMz0k/7Cfn9PPWRO4DmPaggSYWQEnDVJz7N79TmCPVeihh2+5IeYc/UVgeZ7oN0Vcj/9zuxct71weRMkcnsYOIAUon6heDa6O+WGwB5YTBy/zvcZaA0r6XTr8uSbwJ/lMg0BJPeT7ysv/kUQdXrlEkPVwlkSk7Ea5Uc6aADrI6e9BAtHi9/WrkfNG6SJknPVt4L9V6KGHB2kh5ZZ4pLI8z3Yboq5F/+l6ioz3vqb/SLl4ee1p9boBSU6KYHds3/8ECynWrAtjFMEtAyV462jaUrSIyGT6fIvLvz/yJ7ce6txyuixd9p8fFVCh64gFD7HV7zfoe0/TYsGtfpEw7B5hqPZT99U+R8i55Nbom3Yboq5F/+l6ioz2vpl28PPa0+twApaZEMTv+66/DFFDi8DaQkCWgpC9sNoY9JZuPsbwxUwHNcdV3/ImNEjhCSpaj1Onnr0mOGhpMvHKUqdZDq1oOjAAlWnl70G2wX9PnbvdI43SfNsJNI9P1GgxQeqVUnqWrfkYvBSZPVRsSTM+yCJRfdpxjccsThy0Ppn9ZLjVZGWWNThHQeOSj5BqugeY1h8cEuSX37TLKVOtBuXhBi0h5g2KcWOk2OLXc7R7pne7f+at8939jnEp0vmaA0pkueX1107rdFpC0azwpmL5mESjXrtghKHPgKts89W0w/ctyqbFa72nL3bXe05cXmgbd8aud5arNEW3vll0iaKsxN7qiVXTHNNAc/ZTIe2MiWm8035xzjfu9bX5wUqkHk6QGn0bKov7YxQK6DdEti/xzu0cKp/uj5kauIyaAc5+1SgQxwopNIl9OE7n2zaI1GaAsSpO8v2J3S/b1JwuD6W8WgZIO1by0rwLK287qHUz/QlDqW8OjFTEaFPQxtomAwHENCsFDp4s92vPpew92c84HZxsLbMnWo+vwenRqn/2a/VyXab/G+etDnPsTL70BylgKFoP/H7WZYXGU7MAYSMgyUH7w4mSrj6xpz9cwYaHI3zuKnNZQBCXFyc+JMLUcEceRF1xTs34il78ucvy/IhpwtMysznlpoMjs1dGU0sCBjWOLAZEVPWjGf9c8Yh4Ub2VOMvXoOrwe7S3UeezX7Odu98fME8FUCC043OXZzUTu6WBW5tjpV6zPX3xgtAIRtoDAg1AgIctAyUZjTL2J3d9w9rYfSL/zrFA3oPGrq17r8JrOr3bZyzEcpZ0axeS8xh8/VwDyUOV+wfU4y0B58OAhqXrax6qfdf/UP7h+5nnJmQAnr3V4TRfEkBigDIKqIS4TO8PKh3dRAPL6YwG6I8syUDIEr9T9RvXzylKdBQWWCclTIBPg5LUOr+mS72XiHAYoE9Mor1LM/mGdAg+mpIHuLxMCoBz95RKrr7iUMyF5CmQTnJJvbXA5PAGl3XO5U1MOHTokjRs3Vjsrsrti06ZNhWtuwTjudaNOcPdY1qdldzO+/SW4ikIAlGwJcc3RXVV/G987Mri+mpLzngKegFJTQW/9oP/rY8eOHeXyyy+XJUuWqMh5ly5d9G3HowFKR7IEfvHNBoU+KH3dTCy25SEASpr09C1DFFD++fjusm+vg8PF2Hab/4YCDhTwBSivueYaGTq0cPc7zqtUqeJQXeElA5SFtMjk2aPXDVDAcee5nwZbbUiA8rP//WRx0JNGrAi2z6b0vKWAL0B5/PHHy/r1he5F1q1bJ2XKlLGItnDhQrn//vujYvny5aV+/RhXJVYOcxIEBZCG3FAm4oOy4d0BO4wICVD+smy7BZRw0yYYCqRCAV+AsmTJkrJvX6F7Ec5LlSpltccApUWKrJ6sWrrNAo1OLwfsATwkQAnB/1nhC9VvnPqaYCiQCgV8AcpEHKVTw8zU24kqwV4bN+BnCyjHfLU02MpCBJR2l3ILf8zfVTrBDmjxLt0XoDQyytx4iOybb+HhPNAQIqD88fvCVTrdWk0LtNum8PykQFpAqbXgHTp0MFrvHHg+MJHBNOi633xYxJGB780PEVCySqfab3uqvte5OsDVSL4T0RQYFgp4Akq7HaU+pwMaKLGZbNSokVLgoMRp0qSJsaMMywjb2nH37/sosHi4ygDb1YBOQwSU9PC1R8epvl9ZsrNs+CUAj+4BkdEUGw4KeALKIJpqZJRBUDV+mbt37heW8sFRsgFX4CFkQGmXz/bvmr976QQ+rsW0AgOUxWTgfyoolNN98cHs4HsdMqDkQ6H30nn2zq+D77+pIa8oYIAyr4Yzfme+6ly4dHHmd0lunBK/2Ph3QgaUNBSAhKPGvRzAaYKhgFcKGKD0SqkcT2dfurhzW6HNa2DdCiFQDug2TwElYMlU3ARDAa8UMEDplVI5nu6x6wcqkAh86aKmUwiBcuPaXYIyB6B85eFvdEvN0VAgIQUMUCYkUX4kuLFsDwUQGdvrOoRAyUjixBegZJvewLy758cjY3pho4ABShsx8vXUvt6500sBL13URAwpUNr3C5o2PkA3c5oO5pgXFDBAmRfD6N6J8YOWKS4KTmp03yXuif26G1KgXL5wq0WLd57/3q/emnLynAIGKPN8gOlet9enWeCwbMGWzPQ4pEBJ5++96DNFj7+dF7CrucxQ2tSSAQoYoMwAkbNdRbP7RilguPbYbsJyvoyEEAPl/5oWWB8O4yQjI09DzldigDLnhzBxB2pcnIFdF2ObEWKgtG9l2/mVqbEtN/8NBYpQwABlEZLk14W9ew5Yuy62enx85joXYqDEgXH1M3sprvL+y77MHE1MTTlLAQOUOTt03ho+Z8p6a5rJtggZCyEGSmjwn/oTLLqsWrItY2QxFeUmBQxQ5ua4eW71wO7zLUCY+s1qz/nSThhyoCwYudKiS+93fky7u6aA/KaAAcr8Hl9p++x3FiBs3bQnc70NOVAe2H9Q/nLyR4o2bLhmgqGAGwUMULpRJw/uPfmXwQoMbjsrw/vFhBwoGdqX64xVtGFZ4/rVxkdlHjzugXUhIVDilLdx48ZStmxZFZs2bVrEKe/ixYvl9ttvtxz3cs41t2D8UbpRx797LNXD0PyZ24f5V6iXknIAKO0+Kr/sOMdLr0yaYkqBhEDZsWPHhNs8sGfOCy+8IJs3b1axWbNmwjW3YIDSjTr+3MOTNyBJfOeTUAMAACAASURBVL9ZgT+Fei0lB4By7+4Dct1xHyr61K86xGvPTLpiSIGEQOll47BjjjlGtm0r1Bxu3bpVuOYWDFC6Ucefe999vcICyuGfLvKnUK+l5ABQ0pVm/4wY41c+vItsXr/ba+9MumJGgYRA6WUr2nvvvVdatmwpW7ZsURzliy++KFxzCwYo3ajjzz27A4glczb7U6jXUnIEKEd+vtj6mOCv0gRDAScKJATKkiVLyr59hY5eOS9VqlRUWStXrpSzzz5bbTbGhmOcr1q1KiqN/tO8eXOpWLGiknfWr19fXzbHACjQ4sExCgSuOaqroOXNaMgRoMTTOUs7EU/8668ZluNmdEBMZelQICFQeuEob775ZkEuaZdRcs0pDBgwQFq1aiUXXXSRGKB0opB/1+675AsFAA9cnoXVJzkClFC70T0jFJ2uPrKLbNu8178BMCXlDQUSAqUXGWXp0qWNjDJkj8S+vQeFFx9O6ZW6WfDmnUNAifxWK70G9ZgfspE0zQkDBRICZYcOHeJqvfW+3oApcknNUTK9rlKlimv/jIzSlTxp35w/Y4P18mdl5UkOAeWuHYXT73/fZqbfaT98eVhAQqDEjrJRo0aWjWSTJk0sO0oNlAsWLJBbb71VTjjhBBWrV68uixa5a1kNUAb7NA3pucACyoJRK4OtzKn0HAJKmm+m306DaK5pCiQESp3Q76MBSr8pGl1eu0aTLKDctC4LZi85BpT26Tfr400wFLBTwAClnRp5dI4BNXK36mf0yk6vcgwo7drvBrcOzQ7NTK2hpYABytAOTXoNq3paZOlig+pZeulzDCihdtN/jFQfF4zP2drWBEMBTQEDlJoSeXTcuGaXNe1+r0mGly5qOuYgUI7+colFN7P2Ww+kOUIBA5R5+BxMGlG4dHFY74XZ6WEOAuWeXfvlut9E1n4/fsOg7NDN1BpKChigDOWwpNeoj96cYXFGi2dvSq+wVHPnIFDS1Ra1IquZcL22dsWOVHtv8uUZBQxQ5tmA0h39sl9zdBaWLmp65ihQThy63PrI9Go7U/fGHIs5BQxQ5uEDoJcuPnhFFpYuanrmKFDu31fo+bxWpa90b4rNkX3fWz40Vm49vada2cWR/8sXbk2KBotmbRR2uESEgSd5FGQ3lOkuD1cZIJ+8O0vY9C5e0Kuk4h3j5QvyugHKIKmbhbJZunjVEZGli68+Mi4LLfi1yhwFSlr/xpOFG4/9PC/DXpeyN2IyfcIvUuWYiIOQWJDCccjM79Z4bl1s/tj/fMzjubWLTRv733MjfExogNJHYoahqHnTsrTrYmzncxgoZ3z7izX97thycmzP8vI/dqR6C99n7/xakG3D9XHkP2B1+9m9BYWXl1Djj59LhxaT5YfRqwQrDDh1ZL6ft5+tOEvKe6n2WMeiNDA63szSRQOUWSJ8UNVG7bo4LoO7LsZ2KIeBkn2/7/jdJwoc/nbep8L/fA/44gSgalbsq0DN3l9Ajuvc98NpyDf9l6qybjyxh70a69wApUUKEbOE0UYMH0/bPhPZdbHSYZ1k+5YsugzLYaBkONq/8IN6mXlpZ070PuUkL8CCI5I6V/eT60/oLoyFfvljjz4OfVpFNbx7uGpjvy5zHcvhOm1nTXy6Yef2faqsP5Xu5liUppHjzSxdNBxlHMKvWrJNkPf1+M90ufPcTwVP2EzJ9IPy2f9+kgmDl8nWjXvky05zBA80S+duVpEi2dWPFybTAeE5DxptzmrIcaBcNn+LoiO0bP3EBM+kPHjwkLAaSr/siY6eCw44IZwzbeUZdgpc5/5d56f/XE0Zu0qV9dj1A52qsmiHMg3LDT42j/15oAz+aH7WuHsDlLahOnjgkAI+vTvf98NXyIAPI1OS4X0WqYFCg0eofVU/QX41e/I6NbDIYfD72PjekYK8h4dq8phVyrP4mw0myuqft9tqCu6U6Qx1P3/X8OAq8VJyjgMlXXyocj9FyxvL9nDV0trJ0b9rhPPCDhPuHmUQzwPH/z73vXD9ylKdZc6U9fZsCc8Z02RjwkJtCfQma3zwnQLXqR+D/HQC3CTyS8piTyen4NZP9jjiY5TpYIDyV4oDkv+s8IW8cP9oYXc+tnlt++x3sm7VTjV1mjhsufRpNkL+dtRbIpUqyd+PbiO9yteVgkvvU4NOHrhNNM1wkwz23KnrZeq41Sr/2pU71HTs7X9PVDVSn98BMNYPWaeXpvhdfHLl5QFQfvb+TxY9R33hvv2yJg6cD2MASDqFNk9/q+7zwicT9Lgmc0ymfACcsuOBEM8r9wH5VAMfDLhIysGyIF5gL/qx/ZbKlg271UcGUyPeG+om7xcfzI6XNbDrxR4oARf2SmFr126tpinTGkANbvHvF36mCF/z0r7KNKJro7HyQLn3RV56SW457gPpf2cbGf1gW2FPGgIDDNegpykrF2+V/zUtUIJw7rMlA/d3bN2r7NR+KlirQFll9uFHC8l5mDjPasgDoMR8RXuJ9+rQl2ki9I9nVqSfjWq/7ZnV4YmtPGiOEtBDZgttnr3j65T2cELuS/5s2LcWa6Bk8Jgy33TSR4oThCu845xPpH3zHxRwAoDIKlnpgplEu2cmSL0reosUFEiVo7vIqDeGy4CWwxX3yYPHAHZ6eYrMmrRWDSjlYy/GntqAJoOMLRrTsz8f3119Lf9Tf4LiYsnPFzedALhTB/GXZZmZ6sdtbx4AJX3TDn0xmGamkCiQDvrHG0uuc590YQpByih59u++oI/q95M3D06ZOWA/I2iHrWemQ0KgxMN548aN1a6JZcuWlaZNm1oezu2NnTFjhlSrVk2OPfZYOf3006VbN/fOZFvr3fu/Pyq7MZza4jiCqQc2iChtkENiLwaIMeWe/cM6QbYy9YNRMqrE5XKoxGHSqsQDsrDEGTLmmCrSpMZIRQpWHTAtQLbJgK5auk1Nu6eN/0XYOhY7NUxNmH4gz0TuAweCpxqmF8h/yOPVVs1Of86f+1tEcxnP7CI2faD/8wQoxw38WY0l4/nxW4mXNGr3dot/cl5jzzhT1s2nRGTdXseAPMlGr2WTLiit94/fr1V9pe34+Uz12aaNGigxfs90SAiUHTt2jLtnjm7s/PnzpXz58tKrVy/ZtGmTLFu2TGrWrKlvOx6zBZRs24rhKxwXy7NwcIv8BeUHS/7QVDMV54EuEvbvF1m3Ljpu2FAkGXWgDYdbZTrP/1pXfqXkLBo80fxhu8aUZ+e2fUqzev9lkSWHKBHQttOuZGz4MAjmgax3Ywg83+QJUDJ2GvzuvSgiiiky4LYLGnBa1Rtvu1p4igybMfI6ldc5kwVJ0icTtBIqkR1lMt7fR/ddIpgA0RZksulagfR8e6Yqi/cj0yEhUHrZhRFQfP/995Nqe7aA8sPW0xVnx9pVNuBiCswKAmSUcHzIDeMG9gGqXTs6Pvlk3OT2GwAzAA33CKAhNEdm8/pj45S9I4AJcOppO+1A4w7AelH8MM3XL9M7z39vrzo753kClBDv3YbfW7RNtIxv6jerVVpsJ1FYLJkT0Xojumn1+HirnHga3+wMVkTsY1+ZQ7sxj+PotjJHP3Ox7UaeqBVEb/1rYlwlUWy+un/qr0RTmGchCoOJmD99g6KlLo/3JNMhIVB62df7tNNOkxYtWki5cuXkxBNPlIceekjtyOjWmWwAJbISZERwXDwUOAAoGLlSKWMw5XFbqK/6smCBSI0a0bFOHbduOt7bummPMOVn+sW0HicBTJeZliAPZQpPQL752qPj1BSdLz1p4wWWiumHdsjHC+Ily9z1PAJKrYCBvl7Wz3d7fZo1FnpM7Ec+zGEMCdd6Oxje637F9kdfT3SMXe+dKD3isGRmWbHtSvV/QqAsWbKk7Nu3zyqf81KlSln/OeH/gw8+KGvXrlXxvvvukzpxAKR27dpyxBFHyJFHHin169ePKifIPxirMg3A7MACyzMiYAlIepKdHDwosmNHdNyZWMAfr198sQnIK9kMjO0HUCBhisLOiXxBeUk/bTdLcb7IaFAWYeAeG5Cf6YfMUWwQmyHo/3kElJCKjxf01aKSROTjA4x2l48hihvk3s/cPkzJrxPlzeZ9mAc+1reU66ksQDjyP573IP3MxbZZX090jAVKmAHsjrG15H3F6uCv5Xsr+2QcUmcrJARKLxwladYhu/s1AJgnn3yy/ht1nDJlivTr108qVaqUMaCEg4ONB5CwxWJVDWD5xE2DJKlp6vffi5QoER1POCGqf6n+YXrNSh/kYJzzUjHlQUaGJp4tHXio0Ph91XmuLJi5UWnTNdg2rzlavcg8XOTJesgzoLSvoXf6UGWd3qYBgVIgIVB6kVFee+21ipPULQUoTznlFP3X8ZipqTeyO2zWMNEBgPp2mK24Njg4wDKega1jo7duFRk7NjpOiG8461hGgou0ETtLvuRMhdhGlWVcyFCZsrGrIiKCZveNUquDKA4Hs9q8o+41/RPUkKHbeQaUzDhYoQOHlA07vgyNmqkmDgUSAmWHDh3iar1LwF2JKFOgBx54IGrqXbdu3ThVRi5nCiiRZyBYBmzQcAOcmCzAgWluzLWh9purV4u0aRMd27Wzp/DtXMtLWRLJWmOE2sgx6QvTIzhjTFeYoqM40ILulrXG+NaGtArKM6CEFm2eiqyqASxZdWVC8aFAQqDEjrJRo0ZSpkwZFZs0aWLZUWqghFwtW7ZU021sLWvVqhUKZQ4uoTD7Ycq68MeNaokiGueUH/KZM0Uuvjg6Xn11oE8LHC8giaYPORe2lygUUO7wEcAJxqPXReRnvMB8DOBIMUPKashDoETcoWVuWCuYUHwokBAogyJFJjjK8YOWKVtJprGYYyCnZAlhIhOPoPqcbrmAH7aZCLi1NyNe3P8+X2i+grF7l1enKgE403g46KyEPARK6Ij5CjRHVozs24TiQYG8BUoUHmuWb1c2itizMVXFnktPaVMa3mnTRM4+OzpWqJBSUelkQnQAp8lKByKeonl56eOmdbvUFB0tOMsvUe6gSQQ0MxryFCiH9FxgcZV93puVUZKayrJHgbwESjhHpqZ89fGig9IG56soQNLSCK9ZI9K+fXTsGnGIkY0hxCid6SDmEwAl3o8wqMckhSk6Bs6YWQCqT98yRFi2mbGQp0DJhxYRCPTGaUo2bPoyNoamIosCeQmU+PrTGm4eaozLWc+ddti8WWTw4Og4PLt+H/kIXFmqcDMx+tv9jemKm2aKjtYcUQMvNqt+8KuJXVzgIU+BErrhEQp6EhF1mJD/FMg7oMT/Iw9wo7+PUB57MNJGLolFf9ohQDvKVNsGp6xfWqbbL9cZq5Q/aGjv+UPEJpO1609VG6I4SzhM1iHDcQKYuJQLJOQxULIcFTEHdMeo3IT8p0DeASVTIVbfMA2Fo8JRqhf3WLk61Kza0UBp1+YDmEN7LVSetDEfwiYTJwVsZYtSCFCF+8QrEjvj2fP6Qos8Bkroo51fYJa1YlFye177Ql9TSEYpkFdAiV0hLszY2wa5HNPtu3/fR7q+NtUfos6bJ1K9enRk7XcWA1whQMnSRyfvLCgc8AHIBwQHxKxOwngaI3zogqMO8jJFx0kIdpm+hDwHSu38Atprr/W+0M0UEkoK5BVQMg3VrvjZ4AlZJcoblDu+hKVLRVifbo8NG/pSdKqF1Lg4sv8IXobiBeS1eGDB6B5jdbhQ/GAiluAl52NCGlx/oUXnI/PtkGXqGK/MhNfzHCjpP27xAEo8UGV1x8uEg2ESpEuBvAFKpo4Thy5XnBMcJWulmRaN/nJJujQqzL9njwhgaY/LlhXez/AZhuV6RY7bHiS6WfjIhLNkh0a2Y8UmE8sAfBECpEzRkfFio4nYAvklDjacOFVdZtxjMQBKFjRosQeiDBPylwJ5A5Rs38BDy/QSzS4cEqtxWNXiWwiZMsfuWi0Zh6pMtzGWRnuLaRFLOZv+Y6Tl3o29fV55+BtlVoWpEW7gMFxHAeQ5FAOg5AOifTiyBj/pJbGeiWkSZpsCeQGUyNzglJCx8YIzxWT/YTf/jSkRftcukdmzoyNyyywFtpfQHE28rQfcmgZHCffNRlhocfFexAomuFTcuyHfZIoO5wrHqvdhhjNNGIoBUEID7Fb1GGCMbkJ+UiAvgJKtQZHV4RkIrgenuGzBgH9HXwPTbGSS9tiiha9VJFMYJlC8pOy1AwedaoC7xPUcHxvAkA214JZYF4/XJejICh98emKTyTlcqasPz2IClNAO+jMOWFpAQxPyjwJ5AZQ4FUUpgVAdV1i4UGM/bt8D3OT110fH227zvRqvBeoVOTjG8COgxGFfEuS9eEmHM4frxL0bdQGegCh+PEmL70zkm44yzGIClNAdO13NVcKVm5B/FMh5oEQ7yz40TA+RR6LRRYvru11gyMYe/5T65eTD4HcY89VSxZXDoSv3bv/91b1byc5KaYYpFp672RcdJxza8BoAVaEYASXcNcovxuORayPbePg9Hqa87FIg54ES/4xwkrjox/0Yy/QCm/788INI6dLRsVy5rIzgN/2XWkDJ1hFBBcyJsMPEMB055T/+LzK9ZIrOznqsfcYmE1EHexLBeeKM49DoMYWe4Pv2LdK8tjPbSolOJVRcvHWx9JokUuLxSPwuuO4UaYdfF5CN6w8XO2yakF8UyGmgxA4QG0m4Hvw1sqshDyvmLYGEjRtFPv88OvbPjkdx+3rjwJYhxhCRaTcmMdinQmeccvAfEyO04m2f/c5yFPFe5f8UK6DUzpShCx8WE/KLAjkNlCgabijTXW35Om38L4qTxO4vKTOWZMaTfYG6d4+OvXsnU4JvaZFL8lJinpLpwJ4xT/4lAgZ4aWLtOGIPNOQsh8T6oF6J5yyg7HbZC6qJdk4/3zhKOvjC/ZF9ixgXrAlMyB8KJARKPJw3btxY8FxObNq0qeXhPJYM69evl/Lly4vd83lsGv3fD8e9aBzRdONMFWNpDKmRnQUWpkwRYS8gezz//MCqi1cwGm5EDbyQ2D9mIyCLZM0468XZ+xnZMIo0PlJMQ9+48FULKPvd+rpaBcS+PriFI28+AiV00AsA8DRvQv5QICFQduzYMe6eObFkYPvZ1q1bZwQo+WLjEUh7K0fz3bHlZP9tJ2M7GYL/rKIBJIloqbMZtJE1yx9RKmGahbZ8UrOPLaBc8+5Haq8fjNeRacJ5/ePtZ/NKRqnHQO+GydgwyzEhPyiQECi97MIIKebOnSvnnXee7N69OyNAiRkGigUeyLsv6KM0r4HvEzNrlkilStHxxhsz/iTARWugDMsUj2k1dpUYXaPc2T98lAWUh77oq8aILXfR1qMhrt/7BQso529YKN3HH8hpZY5+CBRX+asLNvwOmJAfFEgIlF729YYUTKV7/yqvc5t6r1mzRhYsWCA33HBDyvt6Y7e3bP4WNQKLZ29SnCTeprH3CzSsWCHy0kvR8Y03Aq3SqfAWDxZ6DPLN4YdTRSlew0HEnqEjLaCc3yKySyRa8W6vT1P7GL01/e0ooLzkym8toPx2QQj2JU+x72TTHp34mBnHvmkQMkRZEwJlyZIlZd++wvXSnJcqVSqqCyNGjJDKlStbsks3oGRbW+4ffvjhKQNlwciViqNiXTfevHkBCY6Gz1EtTfPPjh0iBQXRcapPLtySaNodv/tE9R/ZbGiDzY6y3y2vC96ckK2y2qfRvz+Xv/eraQFlg/+9KedfONYCynvu+E51K1f9PPI84vcToHzwii+DM1cL7eDnX8MSAqUXjrJChQoyYUKhB3E3oPSDo2Sah70kKyL06hS4rMBDCJxisOJIT7vbNfbf0Nw3GtqAkqk3irfZk9cp+eUdPe+Xk56paAHl+VUelav+PtoCylf/s1ilpZ/InpHJYgqWS8G+B/jXn/iwDUkudT4P25oQKL3IKAFGp+hGr1S13viXbFJjpLDLIsvrAE3kdBmZ4uzfL4KJkD1u2ODWTd/vYSOqgRKj89AGG1CKzeBcA95Vjz9sAeUlp7aSlzpvtIBy5PR9AtDAjRFYKslHAU/1bEGczrr2TNGLZ1NbJjADSGv3z0w12tQTlwIJgbJDhw5xtd7xOMd41+2tSBUoMWyGe8R+ElMMloz1ajszPSez9oa5nS9aJFK7dnR88km3HL7fY007QIk5FBrm0IY4QEl7G0xsIGf1OtsCygoXN5UGAwosoBw396BaNvnZ+z8pKwb6i3ekHv+ZruSbACXmSHg9CnPo9PIU66P20ZszwtxU07YEFEgIlNhRNmrUSMqUKaNikyZNEsoigwRK7PCw1UMeOWnECrWsLmMrIRYsEGHrB3usUycBif29DZcFcLBxWKiDC1B2n99dqg6uagFl/W+elpZDFlpA+W7nVWp7Cty5seeR5izZGO3dht8rh8J8JBl/vSY9jLTgOb319J5qvPiwh/rDFkYChqhNCYEyqLamylHiZxI3X8/9bbhaPgeHmbFw8KAICh173BmAl6I4HUKbrHf/e/2xcXFSheSyC1Au3LpQnv2u0I5y4M8D5YMJWy2gREb52qPjlCNcDNrhHnFywgeCDyW2o5ggwVmyuyQzDNaisx0GnGeYprkDPpxncZXss25C5iiAzwG8W2HbWvW0j61xSKUFOQeUgAXCceSUyIDwYJOxKViWlTl4SgIsiKF3EusClH8Z/BeLm9SOMWr3HWEBpXaKgVeep28ZojgxfI6yXJLAXjX8x08m449NLc8EH1AA88UHRqvFCMizM/ZsxHn7WIVUq9JXasz4yOW7V6s4ZMjKZf2uxB5TaUxOASWG1gj5Jw5brpxhYEOo98lJpfNJ59m6VWTs2Oho0/YnXV6SGVBo6EFfs3x7krkznNwFKDft2SQvT37ZAstJaybJhxP3FgFKe4txpcfHAYNuaID3emSYN530kRLDMMNofO9IxU3iTQonKZiRMUUHUHlOsgWarB5Dpky7cdxiuaKzd9Cc+04BTNFaPjRW4OpZjKLfnVQqyimg5EV5uMoANf289thu8vxdw9V+1al0PKU8q1eLtGkTHdu1S6moVDJp70hoUUMfXIDy7ZlvS+WvKltAWWNEDWk+bLYrUOr+8oHQ2w/zLDCdZZbBlru4mxs34Gdlw4hIpvUTE5SyD8sIzMhQqDA1R84ZuM2tbvCvR/ZZ1y8qFhsmZJ4Cmv6p1JwzQMnLgFcaAi8BoIk/RAT6GQszZ4pcfHF0vPrqjFSPdx5txMxLF/rgApQvT3lZKnxewQLKaoOrSaMhMzwBpb3f+H1kZRbe2BHD7N65X62KYbqO/BK5FP5K4T55SXCF1umlKcrciHKQb7JLJ9N18gYZ4GpxGkI7cISM+VCuBD4q0JEPNR6iNHesgcd+DHOfdDtTaWPOAOXQXgvVQwZnAKeAvM51z5ZUqBHiPMjh9ECzd03ogwtQ7ju4T9pMb2MB5ZxNc+Tj7w8mDZSaBrzIGKUzpWW61a/LXLXtLi/0L8u2q31/8AtAuO+SL9Tuk3hmh54/fr9WKYvwbEQAOAG1IALu6fQYomDIhQBNWVWl253oGOY+6ban0sacAUqmT7wM2NLVu3GQcqzw7J1fp9Ln1PNMmyZy9tnRsUKF1MtLIidOcfVAo+QIfXABSq/KnFT6iMYb2TUzDjhGgvYDwJJIaKjBUWnODx5SvjWZwmOOhHKInShx18e6dIJfMkXKwe5Xj2OgLgFVy9P/QWtMe5H1okBDzgv3zZGVcVxHSYUz52SCpkEyx2TKd0qr63K6l+haTgAlDxh7srCuG7AENJkuBe4tKJZ6a9aItG8fHbt2jU0VyH84IQY69PaTuvcuQDlt/TR5YvwTFkfZc0FPeW9c4cocrfXWRaVzBDgxpWKP94/fmim3lOupgI8N0jBBYqUQIg1km8N6LxRk3wAtVhVEZi1M4WdOXKN8CqT7zKGMwg0dY4mNpV6plE4fg8yLByTaCkg6BexcuY8YLJlAnmRjMuU7pdX1Od1LdC0ngFLvK62dQcAJoM3K+NR782aRwYOj4/DhiWic9n2mglouhA/OnAguQNl3SV+58+s7LaBsXtBcWo36OeWpt1d68JFF4cO6czhHOLrhny5SwIVxOH4y+SAzlUcWh7YUCws4JvIArA1ujTj3ADiY1qcS7HuBZ8RHQSqN/DUPdABg4lkMsP8793knwx7yHigR2G9eHzEsx71an/dmySt1v8n8uGTJjhIbQT3IyNByIrgAZd1v6sqpH51qAeW5n5wrTw4odLPmJ0cZj1ZsGcKHtv0LPwhOh7G5RMmCCdrUb1arDxMOSFgyWveaiJcm5OO9//ujmrozHohA0KCz6RqzHJRLXozdqeuhypH9nShndN/wjikfFNoYT9nFde6TLuyBdhJTCTnBUbI/DLIQHi58TjINygXHCKkMiFMeuGf9MIZ9qma13wUoSROmrSAALpYXsnkaXCL2qrjwI+AUmjXbfKwZAwCW7XmRexL+WeELdZ/r3IfDGth9vrLj5H484IRDw0CePAB0pjaIU41O4kevaMGsyinofuO9PplAv5ONyZTvlFbX53Qv0bWcAEqmRRgMIzzmwWQamhXPOfPmiVSvHh1Z9x1ggFPRDyt2gzkTXICy1phaclKPkyyOsnzv8vJE/wmBT7290g4XflhVAJq8XCh/4CSRbzIeKGSQzeGtnWdx6rjVapaDzJHAOL3z/Pdqz3PAEFAkDeXaAxux6ZcXZiCMH/+Gdw9XbWQDOafAFtH0Aa48maD7ncwxmfKd0uq6nO4luhZ6oPxh9ColO0JepLW9PKAZl09CyaVLRerXj44NGyaicVr39RpnBlkbWqdVYKYyuwBlv6X95K7hd1lA2XJyS2k9allogNJOIsyIADA04G82mKh2m0T5w4cakzW26mXfIBY/IOPko85WFyiHMONilRD50cCjWUeEhD0i65DRwj99S6HpDTaeYQuIIXj2+CAgYkAZxXQbDpv+aPDBUiDsQbc1lXaGHijZoAkzIB44OsqU55N3Z6XS++jh8QAAG+tJREFU1/Tz7NkTAUsAU8dly9Iv16WEbq2mWQ8jjm9zJrgA5eR1k+WxcY9ZQNl9Xndp982GUAJlLL0xIWIqzgII5OQAIECIMTn2m/hFRUyE8ofdKP/114j887rffKhMlsb2W6qAlA89U/1Gfx8ht54R8TBEvtFfLg0dZ8lHQoOM0zHwLVhiByGJ/07ttV/zWlTogfKngrVKC4kcCdkkDynreLMSsqDMQZHAwFY99WPf7PkyQjsXoAzSjjIjffu1ElZLse0DSh8cdsAh/q9pgSXfxIgdu19sDBlDTIsQH+ktPNAUM/3+5N0fLSC6+qiuClwxUfrgxclqBU8YpuSsm8ciAFkkihu8Oj1z+7DMOMxOY1DtoOh07rXoUAMlAnZYfpanIQOBk4wnVPba4bTS7dolMnt2dERuGVBgmRtcBgMMd5JTwQUoDx46KG/NeMviKBdsWSA9Jx3KCY4y0RhMHrNKmSBp+aWSb77zo1prTl4UkiiLtPE7JkudX5kqt/w2wlUy1shCJ4+JTHkpB5MwFHoAJk6qc2n5YyJ65cr9UAMlRMQJwqAe89WDUv3MXsogWO8lnXEiM81GJmmPLVoE1gy9KoKXJyvKq3R65gKULSa3kD9+/kcLKP8y6C/ScMj0vABKO8n40DMTQr4Od4j8Em6M7Szs8kvWpmMU3/CeERZned8lfeW2s3ur4nBczPRWa5hZs45ZkrbBxIsSgGpCcBRICJR4OG/cuLGULVtWxaZNm1oeznWzhg0bJjfddJMcffTRUq5cOXnkkUdkQ4K9ZLw47sUwF+0hGkhW4hCY5mQtwE1ef310vO22wJqDbBaQRHPKS5ZTwQUo3531rlzT7xoLKGuOqikvDJuTd0AZO1584HmWWUCBJyNcw7HqTBu3j+q7RM2gGHMi8nhkmWrl0MCfFeAiC0XzzooZjN61+zAcGiOWQqlEYPaF1t6v5ZexfSlu/xMCZceOHePumaOJVbVqVRk6dKhs375d1q5dK/Xq1ZPbEgCIF6DEY0ntq/qprzBfYmQ7KHeKQ+DDoO3skAXlXHABynW710mLH1pYQPntL99K14m78x4oncYQIGQ6jXYdqwY4yepn9LI4SxgFQBOOEa2zUh4dPCRaOYSxOksiWU3Ec4K5Diu5yINMH0B+7PqBqmrkpWitqZP0JninQEKg9LILY2x127ZtE7a5dQuJgBKtIluVEvgCs9yMLyjTj6yFH34QKV06OpYrF0hzWFqnOQtEDzkXXIAyX5Q5QYwJz/qcKevkqiMjK2IqleyknBNTF57SWUmklw0Cev9tVCC3XthP2o8V+fPJveSpf/8kzd+KaN752GKy1Oy+UWpGgrwbrTwr27S3pPbNf1CAykKGdNexB0GPsJSZECi97Osd25n+/fvLddddF3tZ/Z8yZYr069dPKlWqJPWxSYwTkOEAFLed1Vvwv4jPwayvXti4UeTzz6Nj/8jytjjdSPkypiP0H5u8nFmNY++tC1Au2bZEGn7f0OIohywbIh0nbC+WHKWdZPZzAE37H+XIlB33gtg1Yr8JR8m0+tEbh8jFl02QcxpEuMhza62RC2+YIXf9vo8qrsbFnwsiLIzdeZ5QBGH/qJdtwo1issRqIqb1BNa0syYezpR6kbMW95AQKEuWLCn79kXkgxCL81KlSsWl27Rp0+TMM8+U6dOnO6apXbu2HHHEEXLkkUe6AiUPAcbWbCTFoPJgZNytWmwP2M+7e/fo2DsicI9Nms5/+7Q72RUP6dTra14XoOw6t6vcNOgmCyjrja8nLw1fYIAyZgBY46+tHgA07aQag289s3rrXxOVD01WruG8g3twkU3/EfF8xDXADq/qrPAiYHKGGRMcKeCJcogpPiuOCOwYCaOip/Vo25F9AriAJyICZnyALmZMxSEkBMpkOMqxY8cqkBw3LvEOgYmm3mwQhUwFO0oGiq8ag5TVMGWKyCmnRMfzz/e9SZqb5iHOyWk3FHEByme+e0Z+98nvLKCs9GUl+fegHwxQOjxJOPvFRI5nAZk13ozsYc1WkYtfEvnjC/vl/+ptUOeX3DBVvuw2X7075GNFG0su61cdohRBMB1wpSM+W6zK5P3CKxIcK8pS8rC4gTXtekM3Znaf/e8ny6AeQGbWw2wPI3xkp6w2It+MbyN6BMrNl5AQKL3KKPv06SOnn366FBQUeKKNG1DylYL9R47CoLEqB0E1A1IcwpN/Gaz6zfI4jJpzMrgAJf0Jk1OMsNMX8x8NluwNZPcgtX2PSJuvi8Z9B0QxF9rumM3ZWDlk15JjcvTA5V+q7mN6BxBiWE5dzGqQbeKJnXOuFYxaqbzB33FOZM8mvMbDZbJ5Gu8p5lAAJwDKOwwXjKgAcyhWmBFQxmpPYGGnu719CYGyQ4cOcbXeJUpEsrdt21bOOussmTNnjr1s13M3oMSsgSVgBM7hqliUn3VTh1mzRCpVio433ujaz2Rv8vXX0y246pwNLkCJL8qjuhxlcZTHdjtWHv5qtOEoXQYboNPPBdNpvUHZ3v0i38wvGg+6MHPsOQW3x/YirHLD9AxmBDdx7KHOdhoEnEXDVeqVRegI0Lwrn5wHDykgZHrO+6nlmzgEwaBee1vCsB5XdU/ePFhxs3z84WTxQK9BGofc1I0sHllq1t9zh3FICJTYUTZq1EjKlCmjYpMmTSw7Sg2UHJ0i5kLxghtQYkjLQwEhkZ0woKHgrFasEHnppej4xhvxupjSdfu62lxwNBC3ky5AOXbVWHlwzIMWULab1U7eHvOLAcq4xIzcAFwwk4N7I6KxXr5RLLqVeLzwHE4z2QB4IvtEkUPAVpN3j2k6QIr9Jtuw2O038RxPOzDjI7DUFs6VBRIooRCZMRuE0dHTeoC3Y8vJSotPHpZyAvzkQXlJO9h6GJBev3qnckYCuNM2ADgbISFQBtUoN6BE/oHgGoGztqNkWpD1sGOHCKIFe5w61bdm8YDwNeclwEks/3M2uADlyJUj5f7R91tAyfa1b41Zbb3wmXDcm6t0BbjYrkKDJU411m/YJzv2SFT0s3/M7tAVEFhhRBtYqgkzg00moNai1hhlxke7mG6jhMWXJwHDeew5mXZzH84RZgiFE++6ntZjN33X+ZFN3lSeNjMUp0keGCVEASiqMKFCXouyFzM6QJcwvM8iNQOFQ6ZcP0PogBINHHIRvjB2O0qIk/UQsFMMHkD9ArD+N6eDC1DePfxuKd21tAWUJ3Q/QR79aqwBSo8DjsKE9eD6WbnmjC/krte2So1OYsU9/uKEY8v0ajEUTPjbRJnDcku4QDhIPCcxjUauOuarpWplEc40CEzRYYSQodIP8tqn6ADhyM8XR6b1J0bMltDWv9+sQO1/RB6WN7MOXtVz4JDitnFvh5d6GA0CIA6A4ryEdwpDe1YxYeCfTAgdUMJeY4qAzANioG1j+h2KsH+/CCZC9phgqWYy7cYUiD4zvcrqUs1kGh0vrQtQksUoc+IRztt1QALRFM+LemZKd5e76i+Whz4UFTMBlG4tRfGK4giOEyN5zlFKId8kAPQwQywk0VN0zP9Y8w7Q0ic+CIDb/ZdFFE44RkZWi3KId8Q+rUe2Tx6cjFCf3r7jppM+UmAL6AK+BJwkgykY7qNwom0Y4aNwQrzAJnTQ1+5TInRASeNpoLajpNGw7aEIixaJ1K4dHZ980pemIXvRmk2+gjkfXICywcQGclbvsyyO8tK+l8q/BhYYjjLJQQeEXqw1xgJLgOKF2uNk2S/ht5QABLHDnP3DOsVZ0nX2D+ddZ+klfUE7jtcsGCe21GCqD/eKGA4GioDCCbm+zoMs86XaY60dNCkHbT0e6u/+1QifI8tGcQrOfS0+QGOP5p5riBrsjkZCBZSgOcJgNGPYZaENU1qwsMjqFiwQYesHe6xTJ8nH2zm5dqnPIOGaK+eDC1B2n99dqg6uagHlU98+Ja+MWGSAMoVBX7FJ5OTr5shlhxfKLf/v+E/l25GrUygtHFmQRyLnJLAij22EmWGxCyvbauA5iak7gZknaZheI7slYF6HwgkxHu8TefADiiKKQDrSk09r6/EjwbSeaTl54ChDC5R0gq8I5gPYUWKvRaO1rFL1Mps/Bw+KoNCxx53pezNiUJDj0Fe9OiKb3fSlbhegXLh1oTz73bMWUA78eaB8MGGrAcoUCI+9ZMFSkX7DN8rfLuqrniGeI2YnTGO1mV0KRYc2CwtPAD9mnTBT7MyKmZL2nHTPHz5THCMKJ2iBLBXFEQonVhRxDcUSC1qwBSWgRIVTVdsTl+ysZJmhBUr89rE6gE7rAcYOKzQhIGWOfe8RFDp5EVyA0jjF8G+Et+0WeXlQJLb46oDcV6NAKpUqNCHCIzmywJy2oEiSXGi84UqRdWLaRECEBwcJnrCUE+UOyz+ZuTKTxSwJQ34wSC/1DC1Qwg4/cdMgxV1hVIs3aBbshyZs3Soydmx0nDAhrebBLWvnB2w6lTfBBSg37dkkL09+2eIoJ62ZJB9O3Gs4yhQGf+02kUqtYmL99VLzskJFDxwUSxFz2i43BdokyoKMFOBEE46hPYtbsOWEWSMgr9QhNDJKljyhsQLd+SIwqGimtCMA3eCsHlevFmnTJjq2a5dWk7RzXh5mlo/lTXABSuwmK39V2QLKGiNqSPNhsw1Q+jj4cJBombX1CM8XESNypqQmJEeB0AAldljIVVDmYEcJC4zsLlRh5kyRiy+OjldfnXITkYfoBxhbsLwKLkD58pSXpcLnFSygrDa4mjQaMsMAZQoPwOotIqc8XzTu/NXsGC0wU0ymlvpZ48hCDmZrYVwumAIZAs8SGqCkp6wlxVsKu72h+cZRab4GZChaWcVDjEA6r4ILUO47uE/aTG9jAeWcTXPk4+8PGqBM4QEAED+cWDTGupBEJscGZYi07IB557mfqlU0xcXhTAokVllCA5So9JlqMy3AkBTbptBouzV1p00TOfvs6Fihgr6b1BGtvn5g9RKspAoIe2IXoDTKHP8Gb9c+kc+nFI0H4vjaRSbHqhltZaGfQQyvWSKIw+DipPjxOhKhAEqMSTu9NEVxkEy/cRza7J+jlCrfa0cykm7NGpH27aNj165JV423Ff2AImS3rwBIurCwZnABymnrp8kT45+wOMqeC3rKe+M2Go4yhbFctVmk9FNFI2u/3QIaXd45HFLoZ1EfuYb/SkxoDGhGqBgKoGQZEwamyEtQ6eN9hGkCip1Qhc2bRQYPjo7DI7veeW3n9Am/qKVUPJTsV679BXrNnzPpXICy75K+gqu1Ep1KqNi8oLm0GvWzAcosDC4faaxNMJPRbtw0YHJkbTYrVkiDvLO4hlAAJYagcJIsS8I6PluulBI+BGnaUeJeSmsh6S8PX94GF6Cs+01dOfWjUy2gPPeTc+XJAd8aoEzhYVi/XeSGt4vG3SmsYsQ8BgPumpcWGq7bQRMgRW/Q9tnvlCLIbj6TQtNzKkvWgRJTIDhHvIfgfw6regaHtZv5FDB3wgW/fvBYFZDXwQUo6bdxiuHP6G/ZJdKwb9GIQ990AsrFj9rMUEsFYxVA+hnmY487NBxM4yKNqXoovHyl0/E4ebMOlHgHYcsH5CVaecNC+VDKRubNE6lePTqy7tslIH/Fh599WoML/rwPLkBZa0wtOanHSRZHWb53eXmi/wTDUabwUKDdnr26aPRTbMWUm2XF+CPQ27NosHQ6shwQL0HtGk1SYjQUtHCruWyKlBAo8XDeuHFjKVu2rIpNmza1PJzrcfWSRqfVRxz3PlnvaWUSxJJFvkwQHfdIoeUmly4VYYtde2zYUHcp6ojsBzf7OC/VDxOuoVgBUCyCC1D2W9pP7hp+lwWULSe3lNajlhmgTOHBwCmG3bO5Pk/Fw7nX6nFQgcPcNk99q1bPxWrQ9fMeeyTdvRd9pvxHYvXR6eUpCkjZJRL3imGeyicEyo4dO8bdM0cT1ksanZYjXNb1FzwjN5/bRth3GG85cJAAC18jiBbKsGePCGBpj8sK12azFIq9P9gzBN959geFfjE1KTbBBSgnr5ssj417zALK7vO6S7tvNlgvvPFw7v0pwQxoyfqi0U+OMlFreO7nTVuvQA/jdkz9nLTp9vch3jkzL9anwzjh0QebapRJmA4iP8XOGtk+xvKsZMO72PwZG9TabZxl4PQiiJAQKL3swugljb3xsOBXHddWqv3+P9Lt9anK7RHONHGuiR84NMMQQUccdXJPR/YOgWA64vUDmZ+OyDrfa1JgRVws4XhCR3zcNakx0orsGsfmRzrijglPzTriOBTD3DvP6CF3lmgld5RoJTeWeCcSD3vXUtA4DT57jbCniPYGbadDXp+7AKWxo/Rv5DfvFKn/SdGYrozSjxYyZQfIcEyBiA2lLe7R2PHRvveP03uT7jUWrNx4Yg/13tb44+fqXQbAecdZNqzff3xXalzANZvGDdqLCFCHhEDpZV/vRGlWrVolrVq1iooVTrsviuNKlzBhy//nEz+Q2rf+V15p2Tqq37F0yNf/vR55RIRdOkuUkC/vvz+KBq+3el1u/e+tFkf53BvPSY3m/S2Osl7LHlHp85VGfvTrhdf+Kxf8e1GR+MrrbUJNw9dfbyUvNnlDGj7ZRp5+8C15+Pa2cv8N78i9ldvJHX98T2753fty42nt5drjO0jlwyPr1DP9jr/VKOKNHbBMCJQlS5aUffsKbQ04L1WqlAZadUyU5scff5SKFStGxeOPOTVLQNlRrij1nhUvL9VOLj/yrehY+jW53B5/00Iut8XLTmgsl5cpjBXLNJBzS9WWimWelsvOeEguvfD6qL7G9j3V/7/73e/k2GOPDaRse5t++9vfykknnZRWPVdVqCD3/OEPKv6pQoUiZf2x8h/lN3/4jZx22WlyyWWXyP9dXkX+cPU9Kla4rHKR9Pb2JXN+ySWXyNFHHy3nn3++b2U61X/BBReoeio49NUpfarXypcvLzAmqeb3mu+UU06R0047LfB6jjvuODnnnHMS11OhklS86Fq59IKb5dLzb5FLz71NLjvnHrn0rBpy6Zk15bLT68hlv31YLjv1Cbn85AZy2YnPRN7R41+Qy459Uf5Y8kW57MjW1ntux4B4ANz0kcj+Pp6AMhG3SCFe0kQhq4hUv/V2ufmcN6VK6W7ySbsflWa4b8fZMrD7fGuKzVRbyyL0NBwZIPaIOmr5BGtZiWwahC9LHU8ue7p8/PHHsdX7+n/BggVqu16OQQb6ceKJJwZZhSq7fv36grIt6HD55ZfLq6++Gmg1fNjZSnnEiBGB1jN+/HhVz7Zt2wKt580335SLccwScLjnnnvk4YcfDrgWkdNPP106d+4caD3Lly9XYwPDliho3OCIPwYdEnKUXuSPXtLoCvWRF/GJx58O3EfenXfeGfhLsnLlSrn++uuFY5CBl53+BB3effddwboh6JAJoDxw4IAamylTpgTaHV5CnoFdu3YFWk+fPn2kjk/bj7g1tGXLlgIoBx3uvfdeGcxqtwDDunXr1NgsWbIk5VoSAmWHDh3iar35UhPc0sRrmdu+3vHymOv5RYFMAGV+Ucz0JlsUSAiU2Eg2atRIypQpo2KTJk0sO0oNlG5p4nXMAGU8yhSf6wYoi89Y53pPEwJlUB2cMGGCTMNtmQnFlgIjR46UOXPmFNv+m47nDgWyBpS5QyLTUkMBQ4HiTgEDlMX9CTD9NxQwFEhIAQOUCUlkEhgKGAoUdwoECpRenWV4TRdvsLzkHzZsmNx0003KKLhcuXLyyCOPyIYNG+IV6XjdSz064/r16wXjYK3w0te9HL3WM2PGDKlWrZoyQscerVu3bl6KV2m81rF48WK5/fbbLWUe51xLJkADHePl89qeePm5ruuIR3M/ngEv9eg2pvMMJOqLriOdZ8BrX9J9BrzQ3Y/x91KPlzSatvZjoEDp1VmG13T2htvPveSvWrWqDB06VLZv3y5r166VevXqyW233WYvJuG5l3p0IRhtt27dOiWg9FLP/PnzFRD36tVLNm3aJMuWLZOaNWvq6hMevdRBIdjIvvDCC7J582YVmzVrpq4lrMAhQTwAI6nX9jgUW+RSvHr8eAbslcWrR6dJ5xnQZbjVke4zoOvg6FZPus+AF7r7Mf5e6vGSxk4XfR4oUHo1RPeaTjc69phKflZQsKIomeC1nrlz58p5550nu3fvdn0A49XtpR5A8f33349XRMLrXuqgkGOOOUbsq022bt2qriWswCFBopeRD5kOnFepUkX/TeroVo+9oFSeAXt+t3rSfQZ0PW51pPsM6Do4utXj5zNAXU509/o82tuc6Nypntg8XtKQJ1Cg9Lq00Wu62E7q/6nk79+/v1x33XW6CE9Hr/VgI9q7d29VptsDGK9SL/WwDrdFixaCGIFljQ899JDi+OKVGXvdSx3kYeUEqzS2bNmiyn/xxRfVtdjyvPx3o4XX9qRbjz1/Ks+APb9bf9J9BnQ9bnWk+wzoOji61ePnM0BdTnT3c/x1v5zq0ff00Usa0gYKlImcZejGek2n08cek82P/eaZZ54p06cntx2Dl3pYZli5cuUiRvmxbXb776UeHJM8+OCDSoyAKOG+++5LammblzpoI8syzz77bPUi8TJxjjeoVILby+i1PV7qdatH50/1GdD5Ocarx49nQNcTrw7up/sM6Drc+sI9P5+BeHT3c/xpc7x67H32kkanDxQovX4lvKbTjY49JpN/7NixCiTHjRsXW0zC/17qwXsMxvQ6uD3oOk3s0Us9pGENqw6A5cknn6z/Jjx6qYNCbr75ZkEuaZdRci2V4EYLr+3xUq9bPeRP5xmw1x+vHj+eAV1PvDq4n+4zoOvg6FaPX8+AG939HH+3enSfvaTRaRV97H/8Pvcqd/CaLl77vObHoQDa4YKCgnhFuV73Ug8PnFN0LTjmppd6rr32WsVN6qwAJa6xvAYvdVBW6dKl80pGme4zYKdvPHBxGv94ae3lOZ275Uv3GbDX51aPH89AIrp7fR7tbXY6T1QPebykiS07UI4ykbMMPTiJ0sU2OvZ/ovzU07ZtWznrrLPSWjLnVo/uS2zb4l2PTWf/76UeTIEeeOCBqKl33bp17cW4nrvVQUbdbh5g5JKao2zevLmvShZdT6L2uHYm5qYu036Za348A7Fluv3X95zao+8lOjrl1dfSfQbsdesyna6l+wwkojt1+zH+XupJlMbef/t5oECJbVQ8hxo0Qg9OonT2BjudJ8pPPfEi5kJeg1s9ui+xZcW7HpvO/t9rPShZmG6z8VutWrWSUua41UFbdLvxsXnrrbfKCSecoGL16tVl0aLk9iN3or3ur64nUXt0erdjonqc7nMtmWdA0ya2LH3dqX2kTTbElm8vw36ezjOg2xxbl26rrifdZyC2fP1f053/QY0/Zdvr0XXHHnUa3ffYY/IjGFuC+W8oYChgKJDnFDBAmecDbLpnKGAokD4FDFCmT0NTgqGAoUCeU8AAZZ4PsOmeoYChQPoUMECZPg1NCYYChgJ5TgEDlHk+wKZ7hgKGAulTwABl+jQ0JRgKGArkOQUMUOb5AJvuGQoYCqRPgf8H+7D8G6942yoAAAAASUVORK5CYII=)"
      ]
    },
    {
      "cell_type": "markdown",
      "metadata": {
        "id": "bVv4iqlxUp_m"
      },
      "source": [
        "Середнім значенням\n",
        "вибірки називається середнє арифметичне всіх її значень\n",
        "\n",
        "$$ \\bar x = \\frac{x_1+x_2 + ... + x_n}{n} $$\n",
        "\n",
        "Середне значення по виборці позначається $\\mu$"
      ]
    },
    {
      "cell_type": "code",
      "metadata": {
        "colab": {
          "base_uri": "https://localhost:8080/"
        },
        "id": "tdt9gfbNrMic",
        "outputId": "cb1fdf45-7a3c-4033-ede2-fd0841c3d5aa"
      },
      "source": [
        "import statistics\n",
        "data1 = [1, 3, 4, 5, 7, 7, 9, 2]\n",
        "x = statistics.mean(data1)\n",
        "print(\"Середне значення вибірки  :\", x)"
      ],
      "execution_count": 1,
      "outputs": [
        {
          "output_type": "stream",
          "text": [
            "Середне значення вибірки  : 4.75\n"
          ],
          "name": "stdout"
        }
      ]
    },
    {
      "cell_type": "markdown",
      "metadata": {
        "id": "U5idQ4gBUtsU"
      },
      "source": [
        "Медіана вибірки – це число, яке “поділяє” “навпіл” упорядковану\n",
        "сукупність усіх значень вибірки, тобто середня величина змінюваної\n",
        "ознаки, яка міститься в середині ряду, розміщеного в порядку зростання\n",
        "або спадання ознаки"
      ]
    },
    {
      "cell_type": "code",
      "metadata": {
        "colab": {
          "base_uri": "https://localhost:8080/"
        },
        "id": "2mEw6kvxUvwI",
        "outputId": "933b4a33-9278-4e12-f13b-5d68c95b76a6"
      },
      "source": [
        "m = statistics.median(data1)\n",
        "print(\"Медіана  :\", m)"
      ],
      "execution_count": 2,
      "outputs": [
        {
          "output_type": "stream",
          "text": [
            "Медіана  : 4.5\n"
          ],
          "name": "stdout"
        }
      ]
    },
    {
      "cell_type": "markdown",
      "metadata": {
        "id": "V12rcTMfUwKG"
      },
      "source": [
        "Мода вибірки – те її значення, яке трапляється найчастіше"
      ]
    },
    {
      "cell_type": "code",
      "metadata": {
        "colab": {
          "base_uri": "https://localhost:8080/"
        },
        "id": "zOJOes_PUxcy",
        "outputId": "622cd98c-b92c-4dd4-a1d1-48e5a33395a0"
      },
      "source": [
        "mo = statistics.mode(data1)\n",
        "print(\"Мода  :\", mo)"
      ],
      "execution_count": 3,
      "outputs": [
        {
          "output_type": "stream",
          "text": [
            "Мода  : 7\n"
          ],
          "name": "stdout"
        }
      ]
    },
    {
      "cell_type": "markdown",
      "metadata": {
        "id": "fpi9MJTmYerv"
      },
      "source": [
        "##Дисперсія\n",
        "Дисперсія(variance) - обчислюється\tяк\tсереднє\tзначення\tвідстаней\tвід\tвсіх спострежень\tдо\tсереднього\tзначення\tу\tквадраті.\n",
        "\n",
        "Позначається D[X] або var.\n",
        "$$ D[X] = var = \\frac{\\sum_{i=1}^n(x_i - \\mu)^2}{n} = \\sigma^2$$"
      ]
    },
    {
      "cell_type": "markdown",
      "metadata": {
        "id": "ggiaVjn6drRY"
      },
      "source": [
        "## Середньоквадратичне\tвідхилення\n",
        "Середньоквадратичне\tвідхилення(standard\tdeviation) σ- обчислюється\tяк\tкорінь квадратний\tз\tдисперсії\n",
        "$$ \\sigma = \\sqrt{\\frac{\\sum_{i=1}^N(x_i - \\mu)^2}{n}}$$\n",
        "\n",
        "Середньоквадратичне\tвідхилення для виборки\n",
        "$$ s = \\sqrt{\\frac{\\sum_{i=1}^N(x_i - \\bar x)^2}{n - 1}}$$"
      ]
    },
    {
      "cell_type": "markdown",
      "metadata": {
        "id": "OEXhgaSe_GDA"
      },
      "source": [
        "##Стандартна помилка\n",
        "Стандартна помилка (standard error (SE)) середнього в математичній статистиці - статистичний параметр, величина, що характеризує вибірковий розподіл.\n",
        "\n",
        "Вона характеризує стандартне відхилення вибіркового середнього, розраховане за вибіркою розміру n з генеральної сукупності.\n",
        "\n",
        "$$ SD_{\\bar x} = \\frac{\\sigma}{\\sqrt n}$$\n",
        "\n",
        "$$ SE_{\\bar x} = \\frac{s}{\\sqrt n}$$"
      ]
    },
    {
      "cell_type": "markdown",
      "metadata": {
        "id": "LKAyeCG6Cxmr"
      },
      "source": [
        "##Нормальне розподілення\n",
        "$$x_{new} = \\frac{x-x_{min}}{x_{max}-x_{min}}$$"
      ]
    },
    {
      "cell_type": "markdown",
      "metadata": {
        "id": "DbtEyVSAmaAW"
      },
      "source": [
        "##z-оцінка (стандартне нормальне розподілення)\n",
        "\n",
        "Стандартизована оцінка (z-оцінка, англ.: Standard score, z-score) - це міра відносного розсіювання (розкиду) спостережуваного або виміряного значення, яка показує, скільки стандартних відхилень складає його розсіювання відносного середнього значення. Це безрозмірний статистичний показник, який використовується для порівняння значень різної розмірності.\n",
        "\n",
        "$$ z = \\frac {x- \\mu}{s}$$\n",
        "\n",
        "де $\\mu$ - середне значення, $s$ - cередньоквадратичне\tвідхилення для виборки, а після перетворення - $s = 1$ та $\\mu = 0$\n",
        "\n",
        "Якщо Z-оцінка дорівнює 0, це означає, що оцінка в ідентична середній оцінці. Z-оцінка 1,0 означає, що вибране значення є одним із стандартних відхилень від середнього. Z-оцінки можуть бути позитивними або негативними, при цьому позитивне значення означає, що оцінка перевищує середнє значення, а негативна оцінка означає, що вона нижче середнього.\n",
        "\n",
        "Розподіл стандартизованої нормальної випадкової величини z називається стандартним нормальним розподілом N (0,1) з функцією густини(щільності)\n",
        "\n",
        "$$f(x|\\mu,\\sigma) = \\frac{1}{\\sigma\\sqrt{2\\pi}}e^{-\\frac{(x-\\mu)^2}{2\\sigma^2}}$$\n",
        "\n",
        "Інтегральна функція Лапласа\n",
        "$$\\Phi(x) = \\frac{1}{\\sqrt{2\\pi}} \\int_0^x e^{\\frac{-x^2}{2}} dx$$\n"
      ]
    },
    {
      "cell_type": "markdown",
      "metadata": {
        "id": "HaLKiynphQnC"
      },
      "source": [
        "##z- перетворення(нормалізація)\n",
        "Перетворення в результаті якаго отримуємо виборку центрованої  \n",
        "<font color='gray'>(різниця $(x-\\mu)$ між даної випадкової величиною x і її математичним очікуванням $\\mu$)</font>\n",
        " і нормованої <font color='gray'>(відношення ${x \\over \\sigma}$ даної випадкової величини x до її стандартного відхилення $\\sigma$)</font> випадкової величини.\n",
        "\n",
        "\n",
        "https://ua.nesrakonk.ru/zscore/\n"
      ]
    },
    {
      "cell_type": "markdown",
      "metadata": {
        "id": "A8fRLPwLJUd3"
      },
      "source": [
        "## z-оцінки та стандартне відхилення\n",
        "\n",
        "Стандартне відхилення є по суті відображенням  мінливості  в межах даного набору даних. Стандартне відхилення обчислюється шляхом спочатку визначення різниці між кожною точкою даних та середнім значенням. Потім різниці квадратуються, підсумовуються та усереднюються. Це створює дисперсію. \n",
        "$$ D[X] = \\frac{\\sum_{i=1}^n(x_i - \\mu)^2}{n} = \\sigma^2$$\n",
        "Стандартне відхилення – це квадратний корінь з дисперсії.\n",
        "$$ \\sigma = \\sqrt{D[x]}$$\n",
        "\n",
        "\n",
        "Z-показник – це кількість стандартних відхилень, що дана точка даних лежить від середнього значення. \n",
        "Для значень, які нижче середнього, Z-оцінка від’ємна. \n",
        "У більшості великих наборів даних 99% значень мають Z-оцінку між -3 і 3, тобто вони лежать в межах трьох стандартних відхилень вище і нижче середнього."
      ]
    },
    {
      "cell_type": "markdown",
      "metadata": {
        "id": "T8Rql_fDD12Q"
      },
      "source": [
        "#Закон великих чисел\n",
        "Закон великих чисел  - встановлює відповідність між\n",
        "теоретичними та дослідними характеристиками випадкових подій.\n",
        "\n",
        "Закон великих чисел в теорії імовірностей стверджує, що емпіричне середнє (арифметичне середнє) скінченної вибірки із фіксованого розподілу близьке до теоретичного середнього (математичного сподівання) цього розподілу. \n",
        "\n",
        "В залежності від виду збіжності розрізняють **слабкий закон** великих чисел, коли має місце збіжність за ймовірністю, і **посилений закон** великих чисел, коли має місце збіжність майже скрізь.\n",
        "\n",
        "Завжди знайдеться така кількість випробувань, при якій з будь-якою заданою наперед імовірністю частота появи деякої події буде як завгодно мало відрізнятися від її імовірності.\n",
        "\n",
        "Слабкий закон великих чисел та Посилений закон великих чисел. Обидва закони стверджують, що з певною достовірністю середнє вибірки\n",
        "\n",
        "$$X_n={\\frac {1}{n}}(X_{1}+\\cdots +X_{n})$$\n",
        "прямує до математичного сподівання\n",
        "\n",
        "$${{X}}_{n}\\,\\to \\,\\mu ,\\qquad \\ \\qquad n\\to \\infty $$\n",
        "де X1, X2, ... — скінченна послідовність н.о.р. випадкові величини зі скінченним математичним сподіванням E(X1) = E(X2) = ... = µ < ∞."
      ]
    },
    {
      "cell_type": "code",
      "metadata": {
        "colab": {
          "base_uri": "https://localhost:8080/",
          "height": 532
        },
        "id": "itb4W34sNCTQ",
        "outputId": "a5b45e89-da8e-4d98-da5d-b390c7df4b67"
      },
      "source": [
        "#https://machinelearningmastery.com/a-gentle-introduction-to-the-law-of-large-numbers-in-machine-learning/\n",
        "from numpy import arange\n",
        "from matplotlib import pyplot\n",
        "from scipy.stats import norm\n",
        "xaxis = arange(30, 70, 1)\n",
        "yaxis = norm.pdf(xaxis, 50, 5)\n",
        "pyplot.plot(xaxis, yaxis)\n",
        "pyplot.show()\n",
        "\n",
        "from numpy.random import seed\n",
        "from numpy.random import randn\n",
        "from numpy import mean\n",
        "from numpy import array\n",
        "from matplotlib import pyplot\n",
        "seed(1)\n",
        "sizes = [10, 100, 500, 1000, 10000]\n",
        "means = [mean(5 * randn(size) + 50) for size in sizes]\n",
        "print(means)\n",
        "pyplot.scatter(sizes, array(means)-50)\n",
        "pyplot.show()"
      ],
      "execution_count": null,
      "outputs": [
        {
          "output_type": "display_data",
          "data": {
            "image/png": "[encoded data removed]",
            "text/plain": [
              "<Figure size 432x288 with 1 Axes>"
            ]
          },
          "metadata": {
            "tags": [],
            "needs_background": "light"
          }
        },
        {
          "output_type": "stream",
          "text": [
            "[49.5142955459695, 50.371593294898695, 50.2919653390298, 50.1521157689338, 50.03955033528776]\n"
          ],
          "name": "stdout"
        },
        {
          "output_type": "display_data",
          "data": {
            "image/png": "[encoded data removed]",
            "text/plain": [
              "<Figure size 432x288 with 1 Axes>"
            ]
          },
          "metadata": {
            "tags": [],
            "needs_background": "light"
          }
        }
      ]
    },
    {
      "cell_type": "markdown",
      "metadata": {
        "id": "zxZhsEu0JAzX"
      },
      "source": [
        "#Центральна гранична теорема\n",
        "Центральна гранична теорема - встановлює граничні закони розподілу випадкових величин.\n",
        "\n",
        "Центральна гранична теорема стрерджує збіжність розподілу суми незалежних однаково розподілених випадкових величин до нормального розподілу. Ця теорема підкреслює особливість нормального розподілу.\n",
        "\n",
        "Приклад:\n",
        "У вибірці, яка містить велику кількість спостережень, кожне з яких було отримано випадковим чином і вони не залежать від інших спостережень, розраховують арифметичне середнє. Якщо цю процедуру повторити багато разів, центральна гранична теорема стверджує, що розраховані середні значення будуть мати нормальний розподіл.\n",
        "\n",
        "[Візуалізація ЦГТ](https://gallery.shinyapps.io/CLT_mean/)"
      ]
    },
    {
      "cell_type": "code",
      "metadata": {
        "colab": {
          "base_uri": "https://localhost:8080/",
          "height": 322
        },
        "id": "yjdGbiwRVa0X",
        "outputId": "a65afa9c-c753-42a5-c82b-d911d557b17f"
      },
      "source": [
        "#https://machinelearningmastery.com/a-gentle-introduction-to-the-central-limit-theorem-for-machine-learning/\n",
        "from numpy.random import seed\n",
        "from numpy.random import randint\n",
        "from numpy import mean\n",
        "seed(1)\n",
        "rolls = randint(1, 7, 50)\n",
        "print(rolls)\n",
        "print(mean(rolls))\n",
        "\n",
        "from numpy.random import seed\n",
        "from numpy.random import randint\n",
        "from numpy import mean\n",
        "from matplotlib import pyplot\n",
        "seed(1)\n",
        "means = [mean(randint(1, 7, 50)) for _ in range(1000)]\n",
        "pyplot.hist(means)\n",
        "pyplot.show()"
      ],
      "execution_count": null,
      "outputs": [
        {
          "output_type": "stream",
          "text": [
            "[6 4 5 1 2 4 6 1 1 2 5 6 5 2 3 5 6 3 5 4 5 3 5 6 3 5 2 2 1 6 2 2 6 2 2 1 5\n",
            " 2 1 1 6 4 3 2 1 4 6 2 2 4]\n",
            "3.44\n"
          ],
          "name": "stdout"
        },
        {
          "output_type": "display_data",
          "data": {
            "image/png": "[encoded data removed]",
            "text/plain": [
              "<Figure size 432x288 with 1 Axes>"
            ]
          },
          "metadata": {
            "tags": [],
            "needs_background": "light"
          }
        }
      ]
    },
    {
      "cell_type": "markdown",
      "metadata": {
        "id": "iqFRmiSJjOVc"
      },
      "source": [
        "##Практичне застосування ЦГТ №1\n",
        "\n",
        "Час\t - 2\t години.\t \n",
        "Плейлист -\t40\tпісень.\t\n",
        "Середня\t довжина\t пісні\t становить\t 3.45\t хв,\tсередньоквадратичне\tвідхилення\t– 1.63\tхв.\n",
        "\n",
        "Яка ймовірність\t що\t цей\t плейлист\t не\t закінчиться\t протягом\tпробіжки?\t \n",
        "\n",
        "Тривалість\t пробіжки\t в\t хвилинах\t становить\t 120\t хвилин.\n",
        "\n",
        "### Рішення\n",
        "Треба\t оцінити\t ймовірність,\t що\t сума\t тривалостей\t 40\t пісень\t\n",
        "буде\tдовшою\tніж\tP(x1\t+\tx2\t+\t…\t+\tx40)\t>\t120,\t\n",
        "тобто\tймовірність,\tщо\tсереднє\tзначення\tтривалості\tбуде\tбільше\t3\tхвилин P(x >\t3).\n",
        "\n",
        "Середньоквадратичне\t відхилення\t вибіркового\t\n",
        "розподілу(розподілу\t середніх\t значень\t вибірок)\t згідно\t\n",
        "центральної\tграничної\tтеореми\tобчислюється\tза\tформулою:\t\n",
        "$$s = \\frac{\\sigma}{\\sqrt n}= \\frac{1.63}{\\sqrt 40} = 0.258$$\n",
        "Знайдемо\tz-значення:\n",
        "$$ z = \\frac {x- \\mu}{s} = \\frac{ 3 − 3.45}{0.258}= −1.74$$\n",
        "\n",
        "Врахуємо що густина ймовірності (щільність) для нормального розподілення:\n",
        "\n",
        "$$f(x|\\mu,\\sigma) = \\frac{1}{\\sigma\\sqrt{2\\pi}}e^{-\\frac{(x-\\mu)^2}{2\\sigma^2}}$$\n",
        "\n",
        "Але нам треба кумулятивна функция\n",
        "https://radioprog.ru/post/893\n",
        "\n",
        "\n"
      ]
    },
    {
      "cell_type": "code",
      "metadata": {
        "colab": {
          "base_uri": "https://localhost:8080/"
        },
        "id": "FVrAwdi-ygkF",
        "outputId": "b2b330d4-15a9-4301-863b-f9703f76622e"
      },
      "source": [
        "from math import sqrt\n",
        "s = 15/sqrt(36)\n",
        "z = (268 - 263)/s\n",
        "print(\"\",s,z, norm.sf(z))"
      ],
      "execution_count": null,
      "outputs": [
        {
          "output_type": "stream",
          "text": [
            " 2.5 2.0 0.022750131948179195\n"
          ],
          "name": "stdout"
        }
      ]
    },
    {
      "cell_type": "code",
      "metadata": {
        "colab": {
          "base_uri": "https://localhost:8080/"
        },
        "id": "uM56WNJLhoH0",
        "outputId": "8359ba24-edea-478d-ba5e-f26ee6023d4c"
      },
      "source": [
        "#R\t                        SciPy\tName\n",
        "#dnorm()\t                  pdf()\tProbability density function (PDF)\n",
        "#pnorm()\t                  cdf()\tCumulative density function (CDF)\n",
        "#qnorm()\t                  ppf()\tPercentile point function (CDF inverse)\n",
        "#pnorm(lower.tail = FALSE)\tsf()\tComplementary CDF (CCDF) or survival function\n",
        "#qnorm(lower.tail = FALSE)\tisf()\tCCDF inverse or inverse survival function\n",
        "#rnorm()\t                  rvs()\tRandom samples\n",
        "print(\"\", 1 - norm.cdf(-1.74))\n",
        "print(\"\", norm.sf(-1.74))"
      ],
      "execution_count": null,
      "outputs": [
        {
          "output_type": "stream",
          "text": [
            " 0.9590704910211927\n",
            " 0.9590704910211927\n"
          ],
          "name": "stdout"
        }
      ]
    },
    {
      "cell_type": "markdown",
      "metadata": {
        "id": "O9sEblYeXN97"
      },
      "source": [
        "##Практичне застосування ЦГТ №2\n",
        "\n",
        "Частка\t всіх студентів\t університету,\t які\t вживали\t енергетики\t протягом\tостанніх\t 6\t місяців\t становить\t р\t =\t 0.40.\t \n",
        "Для\t вибірки\t n\t =\t 200\tстудентів,\t яка\t ймовірність,\t що\t відсоток\t тих,\t хто\t вживав\tенергетики\tпротягом\tостанніх\t6\tмісяців\tменша\tніж\t32%?\n",
        "n\t=\t200\t\n",
        "p\t=\t0.40\n",
        "P(p <\t0.32)\t- ?\n",
        "Перевіримо\t умови,\t які\t потрібні\t для\t застосування\t центральної\tграничної\tтеореми:\n",
        "np\t=\t200\t× 0.40\t=\t80\t≥\t15\n",
        "n(1-p)\t=\t200\t× (1\t- 0.40)\t=\t120\t≥\t15\n",
        "Умови\tвиконуються.\n",
        "Обчислимо\t середньоквадратичне\t відхилення\t вибіркового\t\n",
        "розподілу:\n",
        "$$s(\\bar p) = \\sqrt \\frac{p(1 − p)}{n}= \\sqrt \\frac{0.40(1 − 0.40)}{200} =  0.0346$$\n",
        "\n",
        "z-значення:\t\n",
        "$$z = \\frac{0.32-0.40}{s}= \\frac{0.32-0.40}{0.0345} = -2.31$$\n"
      ]
    },
    {
      "cell_type": "code",
      "metadata": {
        "colab": {
          "base_uri": "https://localhost:8080/"
        },
        "id": "hT8sDviUXQYg",
        "outputId": "7c9cff1e-8c7e-4acc-e56b-92624581aa65"
      },
      "source": [
        "from math import sqrt\n",
        "print(norm.cdf(-2.31))"
      ],
      "execution_count": null,
      "outputs": [
        {
          "output_type": "stream",
          "text": [
            "0.010444077061951083\n"
          ],
          "name": "stdout"
        }
      ]
    },
    {
      "cell_type": "markdown",
      "metadata": {
        "id": "R2T1Oefoy5IY"
      },
      "source": [
        "#Довірчий інтервал\n",
        "\n",
        "Довірчий інтервал(confidence\tinterval,\tCI) - це\t інтервал\t значень,\tякий\tз\tвисокою\tймовірністю\t містить\tсправжні\t параметри генеральної\t сукупності. Ймовірність\t що\n",
        "цей\tінтервал\tмістить\t середнє\t значення\t чи\t значення\t пропорції\tгенеральної\t сукупності\t визначається\t рівнем\t довіри.\t Рівень\tдовіри (рівень\t надійності, confidence\t level)\t має\t значення\tблизьке\t до\t одиниці (найбільш\t поширені\t значення\t 90%,\t 95%,\t99%)\n",
        "\n",
        "\n",
        "Як виглядяє довірчий інтервал для нормального розподілу\n",
        "<img width=\"250px\" src=\"https://saylordotorg.github.io/text_introductory-statistics/section_11/e3f246f42e1caa418685cbcb55e93279.jpg\" />\n",
        "\n",
        "Приклади для нормального розподілу\n",
        "\\begin{matrix}\n",
        "z-оцінка & p-значения  & Довірчий \\\\\n",
        "(Стандартні відхилення) & (Імовірність) & рівень \\\\\n",
        "< -1,65 или > +1,65 & < 0,10 & 90\\% \\\\\n",
        "< -1,96 или > +1,96 & < 0,05 & 95\\% \\\\\n",
        "< -2,58 или > +2,58 & < 0,01 & 99\\% \n",
        "\\end{matrix}\n",
        "\n",
        "[Калькулятор](https://www.rotmistrov.com/intrvl),\n",
        "[Приклад 1](https://yukhym.com/uk/vipadkovi-velichini/dovirchyi-interval-dlia-otsinky-z-nadiinistiu-0-95.html),\n",
        "[Приклад 2](https://ppt-online.org/566565), [Опис](http://statistica.ru/theory/doveritelnye-intervaly/)\n",
        "\n",
        "\n",
        "\n",
        "\n"
      ]
    },
    {
      "cell_type": "markdown",
      "metadata": {
        "id": "gtCuZ6Kb1Ccn"
      },
      "source": [
        "## Довірчий інтервал. Z-розподіл.\n",
        "\n",
        "План\n",
        "1.   Визначити рівень довіри CL\n",
        "2.   Розрахувати середнє по виборці $\\bar x$ та стандартне відхилення\n",
        "3.   Визначити Z по таблиці/за формулою/програмно\n",
        "    *   для пошуку по таблиці  $AREA_left = A_l = \\frac{1+CL}{2}$, для $A_l$ знаходимо Z\n",
        "4.   Обчислити точність інтервальної оцінки по формулі\n",
        "$$E=z_{a/2}*SE=z_{a/2}\\frac{\\sigma}{\\sqrt n}$$\n",
        "якщо $\\sigma$ невідома та $n\\geqslant 30$ можна обрахувати так\n",
        "$$E=z_{a/2}\\frac{s}{\\sqrt n}$$  \n",
        "де $s$ - середньоквадратичне відхилення\n",
        "$$ s = \\sqrt{\\frac{\\sum_{i=1}^N(x_i - \\bar x)^2}{n - 1}}$$\n",
        "5.   Визначити довірчий інтервал за формою $x-E < \\mu <x+E$\n",
        "\n",
        "\n",
        "\n"
      ]
    },
    {
      "cell_type": "markdown",
      "metadata": {
        "id": "DFEJxQfnhMaS"
      },
      "source": [
        "###Приклад\n",
        "\n",
        "Записати довірчий інтервал для оцінки з надійністю CL=0.95% невідомого математичного сподівання a нормально розподіленої ознаки X генеральної сукупності, якщо відомі генеральне середнє квадратичне відхилення $\\sigma=6$, вибіркове середнє $\\bar x=115,24$ і об'єм вибірки n=36\n",
        "\n",
        "|$\\bar x$|$\\sigma$| n| CL|\n",
        "|--------|--------|--|--|\n",
        "|115.24|6|36|95%|\n",
        "\n",
        "Рішення\n",
        "\n",
        "1) $A_l = 1.95/2=0.975$ або $A_l = 0.95 + (1-0.95)/2=0.975$\n",
        "\n",
        "2)Z=1.96\n",
        "\n",
        "3)Стандартна помилка $SE = 6/\\sqrt 36$ = 1\n",
        "\n",
        "4)Точність інтервальної оцінки E = SE * Z = 1.96* 1 = 1.96\n",
        "\n",
        "5)Довірчий інтервал \n",
        "\n",
        "[115.24 - 1.96; 115.24 + 1.96]\n",
        "\n",
        "[113.28; 117.2]\n",
        "\n",
        "Висновок: Ознака належить інтервалу [113.28; 117.2] з надійністю 0.95.\n",
        "\n"
      ]
    },
    {
      "cell_type": "markdown",
      "metadata": {
        "id": "j1z7cAv21jXh"
      },
      "source": [
        "## Довірчий інтервал. t-розподіл.\n",
        "План\n",
        "1.   Визначити рівень довіри CL\n",
        "2.   Розрахувати середнє по виборці $\\bar x$ та стандартне відхилення ($s$ - середньоквадратичне відхилення)\n",
        "3.   Визначити t для ступенів свободи df=n-1 \n",
        "    *   $A_l = \\frac{1+CL}{2}$, для $A_l$ знаходимо t\n",
        "4.   Обчислити точність інтервальної оцінки по формулі\n",
        "$$E=t_{a/2}*SE=t_{a/2}\\frac{s}{\\sqrt n}$$\n",
        "$$ s = \\sqrt{\\frac{\\sum_{i=1}^N(x_i - \\bar x)^2}{n - 1}}$$\n",
        "5.   Визначити довірчий інтервал за формою $x-E < \\mu <x+E$\n"
      ]
    },
    {
      "cell_type": "markdown",
      "metadata": {
        "id": "P7zw4gJNwQuq"
      },
      "source": [
        "###Приклад\n",
        "\n",
        "Записати довірчий інтервал для генеральної сукупності з надійністю CL=0.95%.\n",
        "Відомо що у 20 студентів на єкзамені серце билось зі швидкістю 96 ударів на хвилину.\n",
        "Стандартне відхилення виборки 5 ударів на хвилину.\n",
        "\n",
        "|$\\bar x$|$\\sigma$| n| CL|\n",
        "|--------|--------|--|--|\n",
        "|96|5|20|95%|\n",
        "\n",
        "Рішення\n",
        "\n",
        "1) По таблиці Стьюдента $t_{95\\%_{n=19}}$ = 2.093  \n",
        "\n",
        "3)Стандартна помилка $SE = 5/\\sqrt 20$ = 1.12\n",
        "\n",
        "4)Точність інтервальної оцінки E = SE * Z = 1.12* 2.093 = 2.34\n",
        "\n",
        "5)Довірчий інтервал \n",
        "\n",
        "[96 - 2.34; 96 + 2.34]\n",
        "\n",
        "[93.66; 98.34]\n",
        "\n",
        "Висновок: Ознака належить інтервалу [93.66; 98.34] з надійністю 0.95.\n",
        "\n"
      ]
    },
    {
      "cell_type": "markdown",
      "metadata": {
        "id": "MaGPOzgg_qMR"
      },
      "source": [
        "## Довірчий інтервал для пропорції.\n",
        "Виборочне розподілення пропорцій має біноміальний розподіл. \n",
        "$$ P(A) = \\sum P(\\{ (e_1,...,e_N) \\})  =  С_N^{k}  p^kq^{N-k}$$\n",
        "$$p = r / n$$\n",
        "де r - кількість індивідуальних виборів з вибором інтересів, що характеризуються нашими характерними особливостями\n",
        "\n",
        "та стандартна помилка оцінюється:\n",
        "$$SE = \\sqrt{\\frac{p(1-p)}{n} }$$\n",
        "\n",
        "Довірчий інтеравал\n",
        "$$[p-(1.96*\\sqrt{\\frac{p(1-p)}{n}});p+(1.96*\\sqrt{\\frac{p(1-p)}{n}})]$$\n",
        "\n",
        "\n",
        "Якщо обсяг вибору невеликий (зазвичай коли np або n (1-p) менше 5), тоді необхідно використовувати біноміальне розподіл для того, щоб вичислити такі довірні інтервали.\n",
        "Замітьте, що якщо p виражається у відсотках, то (1-p) змінюють на (100-p)."
      ]
    },
    {
      "cell_type": "markdown",
      "metadata": {
        "id": "j4Oek7vYZ2BL"
      },
      "source": [
        "##Інтерпретація довірчих інтервалів\n",
        "При інтерпретації довірчого інтервалу нас цікавлять наступні питання:\n",
        "\n",
        "Наскільки широкий довірчий інтервал?\n",
        "Широкий довірчий інтервал вказує на те, що оцінка не точна; вузький вказує на точну оцінку.\n",
        "Ширина довірчого інтервалу залежить від розміру стандартної помилки, яка, в свою чергу, залежить від обсягу вибірки і при розгляді числової змінної від мінливості даних дають ширші довірчі інтервали, ніж дослідження численного набору даних небагатьох змінних.\n",
        "\n",
        "Чи включає ДІ будь-які значення, що представляють особливий інтерес?\n",
        "Можна перевірити, чи лягає ймовірне значення для параметра популяції в межі довірчого інтервалу. Якщо так, то результати узгоджуються з цим імовірним значенням. Якщо немає, тоді малоймовірно (для 95% довірчого інтервалу шанс майже 5%), що параметр має це значення."
      ]
    },
    {
      "cell_type": "markdown",
      "metadata": {
        "id": "g-VUpVtmJ-wk"
      },
      "source": [
        "#Статистична значущість та гіпотези\n",
        "\n",
        "У статистиці величину (значення) змінної називають статистично значущою, якщо мала ймовірність випадкового виникнення цієї або ще більш крайніх величин. Тут під крайністю розуміється ступінь відхилення тестової статистики від нуль-гіпотези.\n",
        "\n",
        "Загальна картина проблеми така: дана вибірка з деякого простору $\\Omega$ елементарних подій (наприклад, список пацієнтів, які пройшли обстеження на деяку хвороба) і, можливо, значення на цій вибірці деяких змінних (функцій від $\\omega \\in \\Omega$, наприклад - вік пацієнта , інтенсивність куріння, кількість годин фізичних вправ і т. п.). Імовірнісний розподіл на $\\Omega$ невідомо, а, навпаки, є тут головним об'єктом пошуку.\n",
        "\n",
        "Різні гіпотези відповідають різним можливим імовірнісним розподілам на $\\Omega$. Точний зміст терміну «гіпотеза» - набір тверджень, який містить повний опис деякої імовірнісного розподілу.\n",
        "\n",
        "[Перевірка гіпотез](\n",
        "https://lpgenerator.ru/blog/2016/03/15/chto-takoe-statisticheskaya-znachimost-pri-optimizacii-konversii/)\n",
        "\n",
        "Перевірка гіпотези $ H $ (задає імовірнісний розподіл $ P_ {H} $) полягає в наступному. \n",
        "\n",
        "Вибирається подія $ S \\subset \\Omega $ (зване статистичним критерієм), яке (з яких-небудь міркувань) «майже несумісне» з гіпотезою $ H $ в тому сенсі, що умовна ймовірність $ P_{H} (S) $ події $ S $ (за умови, що гіпотеза H вірна) не перевищує якогось малого (в порівнянні з одиницею) числа $\\alpha $, званого рівнем значущості: $ P_{H} (S) \\leq \\alpha$. \n",
        "\n",
        "Потім проводиться випробування. Якщо подія $S$ відбувається, то гіпотеза H відкидається (кажуть, що спостерігається відхилення від гіпотези на рівні значущості $\\alpha$).\n",
        "\n",
        "В іншому випадку, гіпотеза не відкидається (проте ніякої метод статистики, ні навіть науки в цілому, не може «остаточно довести» гіпотезу)."
      ]
    },
    {
      "cell_type": "markdown",
      "metadata": {
        "id": "vQAm281612-3"
      },
      "source": [
        "#Статистичні тести\n",
        "https://towardsdatascience.com/hypothesis-testing-in-machine-learning-using-python-a0dc89e169ce"
      ]
    },
    {
      "cell_type": "markdown",
      "metadata": {
        "id": "ylLesTGOhfuB"
      },
      "source": [
        "#Z-тест\n",
        "\n",
        "https://ua.nesrakonk.ru/z-test/"
      ]
    },
    {
      "cell_type": "markdown",
      "metadata": {
        "id": "EIxW9arvpCgD"
      },
      "source": [
        "#T-тест\n",
        "\n",
        "https://ua.nesrakonk.ru/t-test/"
      ]
    },
    {
      "cell_type": "markdown",
      "metadata": {
        "id": "22FkWkrf-tCz"
      },
      "source": [
        "#Хи квадрат\n",
        "$$ \\chi ^2$$\n"
      ]
    },
    {
      "cell_type": "markdown",
      "metadata": {
        "id": "asEOvMpVIgJ3"
      },
      "source": [
        "#A/B Тестування та ANOVA\n",
        "\n",
        "https://awsmd.com/blog.html"
      ]
    },
    {
      "cell_type": "markdown",
      "metadata": {
        "id": "VZZA0PurEbTn"
      },
      "source": [
        "#Цікаві досліди\n",
        "\n",
        "План дослідження\n",
        "1. вирішите, що будете тестувати\n",
        "2. сформулюйте гіпотезу\n",
        "3. визначте змінні\n",
        "4. проведіть тест гіпотез\n",
        "5. проведіть аналіз результатів і намітьте план дій\n",
        "\n",
        "\n"
      ]
    },
    {
      "cell_type": "markdown",
      "metadata": {
        "id": "wNoloyUiqiT5"
      },
      "source": [
        "#Додатково\n",
        "\n",
        "[Карпов](https://www.youtube.com/watch?v=ksdrNa_g11M)\n",
        "\n",
        "https://www.kaggle.com/asimislam/confidence-intervals-with-z-score-and-t-score\n",
        "\n",
        "\n",
        "https://ela.kpi.ua/bitstream/123456789/22404/1/TIMS_kurs_lek.pdf\n",
        "\n",
        "https://proglib.io/p/obuchenie-data-science-11-neobhodimyh-specialistu-po-analizu-dannyh-koncepciy-iz-statistiki-2021-01-10\n",
        "\n",
        "http://poivs.tsput.ru/ru/Math/ProbabilityAndStatistics/MathStatistics\n",
        "\n"
      ]
    },
    {
      "cell_type": "markdown",
      "metadata": {
        "id": "z8YIyMZVpbvN"
      },
      "source": [
        "[Latex](https://www.andreyolegovich.ru/PC/LaTeX/LaTeX_symbols.php)"
      ]
    }
  ]
}