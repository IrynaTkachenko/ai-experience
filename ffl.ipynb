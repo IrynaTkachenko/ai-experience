{
  "nbformat": 4,
  "nbformat_minor": 0,
  "metadata": {
    "colab": {
      "name": "ffl.ipynb",
      "provenance": [],
      "collapsed_sections": [],
      "authorship_tag": "ABX9TyO/5b1K1ypXxxoov74bOwrd",
      "include_colab_link": true
    },
    "kernelspec": {
      "name": "python3",
      "display_name": "Python 3"
    },
    "language_info": {
      "name": "python"
    }
  },
  "cells": [
    {
      "cell_type": "markdown",
      "metadata": {
        "id": "view-in-github",
        "colab_type": "text"
      },
      "source": [
        "<a href=\"https://colab.research.google.com/github/IrynaTkachenko/ai-experience/blob/main/ffl.ipynb\" target=\"_parent\"><img src=\"https://colab.research.google.com/assets/colab-badge.svg\" alt=\"Open In Colab\"/></a>"
      ]
    },
    {
      "cell_type": "code",
      "metadata": {
        "id": "8IlD74OnJeaN"
      },
      "source": [
        "from PIL import Image, ImageFilter, ImageDraw, ImageFont, ImageEnhance\n",
        "\n",
        "def draw_rec(car, place, line, place_number, ruck_number):\n",
        "  w, h = 34, 82\n",
        "\n",
        "  x = (w*(place - 1))\n",
        "  y = (h*(line - 1))\n",
        "  shape = [(x + 1,y + 3), (x + w - 1, y +h -1)]\n",
        "  ImageDraw.Draw(car).text((x +3, y +15), ('Place'),\"#ffff33\")\n",
        "  ImageDraw.Draw(car).text((x + 10, y + 30), (str(place_number)),\"#ffff33\")\n",
        "\n",
        "  ImageDraw.Draw(car).text((x + 5, y + 50), ('Rack'),\"#ff0000\")\n",
        "  ImageDraw.Draw(car).text((x + 10, y + 60), (str(ruck_number)),\"#ff0000\")\n",
        "  ImageDraw.Draw(car).rectangle(shape, outline =\"red\")# fill =\"#ffff33\"\n",
        "\n",
        "try:\n",
        "      # загружаем изображение с жесткого диска\n",
        "      car = Image.open(\"car.png\")\n",
        "except FileNotFoundError:\n",
        "      print(\"Файл не найден\")\n",
        "\n",
        "line_lenth = 33\n",
        "for line in range(1,3):\n",
        "  for place in range(1,line_lenth):      \n",
        "    draw_rec(car, place, line, \n",
        "             (place + ((line - 1) * (line_lenth - 1))),\n",
        "             3)\n",
        "car.save(\"out.png\")"
      ],
      "execution_count": 91,
      "outputs": []
    }
  ]
}