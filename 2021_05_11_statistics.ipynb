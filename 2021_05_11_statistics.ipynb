{
  "nbformat": 4,
  "nbformat_minor": 0,
  "metadata": {
    "colab": {
      "name": "Statistics_2021_05_11.ipynb",
      "provenance": [],
      "collapsed_sections": [],
      "toc_visible": true,
      "authorship_tag": "ABX9TyMRtpIn62oIQHUIKYJfk2Qm",
      "include_colab_link": true
    },
    "kernelspec": {
      "name": "python3",
      "display_name": "Python 3"
    },
    "language_info": {
      "name": "python"
    }
  },
  "cells": [
    {
      "cell_type": "markdown",
      "metadata": {
        "id": "view-in-github",
        "colab_type": "text"
      },
      "source": [
        "<a href=\"https://colab.research.google.com/github/IrynaTkachenko/ai-experience/blob/main/Statistics_2021_05_11.ipynb\" target=\"_parent\"><img src=\"https://colab.research.google.com/assets/colab-badge.svg\" alt=\"Open In Colab\"/></a>"
      ]
    },
    {
      "cell_type": "markdown",
      "metadata": {
        "id": "vQAm281612-3"
      },
      "source": [
        "#Статистичні тести\n",
        "\n",
        "Статистична гіпотеза (statistical hypothesys) - це певне припущення про розподіл ймовірностей, що лежить в основі досліджуваної вибірки даних.\n",
        "\n",
        "Перевірка статистичної гіпотези (testing statistical hypotheses) - це процес прийняття рішення про те, чи суперечить розглянута статистична гіпотеза досліджуваній вибірці даних.\n",
        "\n",
        "Статистичний тест або статистичний критерій - строге математичне правило, за яким приймається або відкидається статистична гіпотеза.\n"
      ]
    },
    {
      "cell_type": "markdown",
      "metadata": {
        "id": "VB_14lUmYb1E"
      },
      "source": [
        "#Методика перевірки статистичних гипотез\n",
        "\n"
      ]
    },
    {
      "cell_type": "markdown",
      "metadata": {
        "id": "Pqy9UEUiyJXW"
      },
      "source": [
        "## Фіксований рівень $\\alpha$\n",
        "Нехай задана випадкова вибірка $x ^ m = (x_1, \\ldots, x_m)$ - послідовність m об'єктів з множини $X$. Передбачається, що на множині X існує деяка невідома імовірнісна міра ${P}$.\n",
        "\n",
        "План\n",
        " \n",
        " 1. Формулюється нульова гіпотеза $H_0$ про розподіл ймовірностей на множині $X$. Гіпотеза формулюється виходячи з вимог прикладної задачі. Найчастіше розглядаються дві гіпотези - основна або нульова $H_0$ і альтернативна $H_1$. Іноді розглядається відразу кілька альтернатив. \n",
        " 2. Задається деяка статистика (функція вибірки) $$T: \\: X ^ m \\to {R},$$ для якої в умовах справедливості гіпотези $H_0$ виводиться функція розподілу $F (T)$ і / або щільність розподілу $p (T)$. \n",
        " \n",
        " Питання про те, яку статистику треба взяти для перевірки тієї чи іншої гіпотези, часто не має однозначної відповіді. Є цілий ряд вимог, яким повинна задовольняти «хороша» статистика T. Вивід функції розподілу $F (T)$ при заданих $H_0$ і $T$ є суто математичним завданням, яке вирішується методами теорії ймовірностей; в довідниках наводяться готові формули для  $F (T)$.\n",
        "\n",
        " 3. Фіксується рівень значущості - допустима для даної задачі ймовірність помилки першого роду.\n",
        "  \n",
        "  Тобто того, що гіпотеза насправді вірна, але буде відкинута процедурою перевірки. Це повинно бути досить мале число $\\alpha \\in [0,1]$. На практиці часто приймають $\\alpha = 0.05$.\n",
        "\n",
        " 4. На множині допустимих значень статистики $T$ виділяється критичне множина $\\Omega_\\alpha$ найменш імовірних значень статистики $T$, таке, що $$P \\{T\\in\\Omega_\\alpha  | H_0\\} = \\alpha.$$ Обчислення меж критичнoї множини як функції від рівня значущості $\\alpha$ є суто математичної задачею, яка в більшості практичних випадків має готове просте рішення.\n",
        "\n",
        " 5. Власне статистичний тест (статистичний критерій) полягає в перевірці умови:\n",
        "   * якщо $T (X ^ m) \\in \\Omega_ \\alpha$, то робиться висновок «дані суперечать нульовій гіпотезі при рівні значущості $\\alpha$». Гіпотеза відкидається.\n",
        "   * якщо $T (X ^ m) \\notin \\Omega_\\alpha$, то робиться висновок «дані не суперечать нульовій гіпотезі при рівні значущості $\\alpha$». Гіпотеза приймається.\n"
      ]
    },
    {
      "cell_type": "markdown",
      "metadata": {
        "id": "E5EWd0XcwnyH"
      },
      "source": [
        "##Особливості перевірки\n",
        "Отже, статистичний критерій визначається статистикою $T$ і критичною множиною $\\Omega_\\alpha$, яка залежить від рівня значущості $\\alpha$.\n",
        "\n",
        "Зауваження. Якщо дані не суперечать нульовій гіпотезі, це ще не означає, що гіпотеза вірна. Для цього є дві причини.\n",
        "\n",
        "1. У міру збільшення довжини вибірки нульова гіпотеза може спочатку прийматися, але потім виявляться більш тонкі невідповідності даних гіпотезі, і вона буде відкинута. Тобто багато що залежить від обсягу даних; якщо даних не вистачає, можна прийняти навіть саму неправдоподібну гіпотезу.\n",
        "\n",
        "2. Обрана статистика T може відображати не всю інформацію, що міститься в гіпотезі $H_0$. В такому випадку збільшується ймовірність помилки другого роду - нульова гіпотеза може бути прийнята, хоча насправді вона не вірна. Припустимо, наприклад, що $H_0$ = «розподіл нормально»; $T (X^m)$ = «коефіцієнт асиметрії»; тоді вибірка з будь-яким симетричним розподілом буде визнана нормальною. Щоб уникати таких помилок, слід користуватися більш потужними критеріями."
      ]
    },
    {
      "cell_type": "markdown",
      "metadata": {
        "id": "F9COkZzNyxcZ"
      },
      "source": [
        "##Досягнутий рівень значущості $\\alpha$\n",
        "\n",
        "Досягнутий рівень значущості (пі-величина, англ. P-value) - це найменша величина рівня значущості, при якій нульова гіпотеза відкидається для даного значення статистики критерію T:\n",
        "\n",
        "$p (T) = \\min \\{\\ alpha: \\: T \\in \\Omega_\\alpha \\},$\n",
        "де $\\Omega_\\alpha$ - критична область критерію.\n",
        "\n",
        "Інша інтерпретація: досягнутий рівень значущості $p(T)$ - це ймовірність при справедливості нульової гіпотези отримати значення статистики, таке ж або ще більш екстремальне, ніж \n",
        "$T$ $(умовно, p (T) = {P} (T | H_0)).$\n",
        "\n",
        "Випадкова величина $p (T (x ^ m))$ має рівномірний розподіл. Фактично, функція $p (T)$ призводить значення статистики критерію $T$ до шкали ймовірності. Малоймовірним значенням (хвостів розподілу) статистики $T$ соотвествуют значення $p(T),$ близькі до нуля.\n",
        "\n",
        "Деякі типові помилки, пов'язані зі значенням пі-величини:\n",
        "\n",
        " * досягнутий рівень значущості не дорівнює ймовірності істинності нульової гіпотези $p (T) = {P} (T | H_0) \\neq {P} (H_0 | T)$; класична статистика, на відміну від байєсівської, не може приписувати ймовірності гіпотез;\n",
        " * 1 - (досягнутий рівень значущості) не дорівнює ймовірності істинності альтернативної гіпотези;\n",
        " * досягнутий рівень значущості не дорівнює ймовірності помилки першого роду;\n",
        " * 1 - (досягнутий рівень значущості) не дорівнює ймовірності помилки другого роду;\n",
        " * досягнутий рівень значущості не є ймовірність того, що повторний експеримент не призведе до того ж рішення."
      ]
    },
    {
      "cell_type": "markdown",
      "metadata": {
        "id": "ZkP25sT6eJ09"
      },
      "source": [
        "#Дедальній розгляд основних гіпотез з прикладами\n",
        "У математичній статистиці добре вивчено кілька десятків типів гіпотез і відомі ще сотні спеціальних варіантів і різновидів.\n"
      ]
    },
    {
      "cell_type": "markdown",
      "metadata": {
        "id": "ylLesTGOhfuB"
      },
      "source": [
        "#[Z-тест](https://ua.nesrakonk.ru/z-test/)\n",
        "Нульова гіпотеза: нульова гіпотеза - це твердження, що значення параметра сукупності (наприклад, пропорція, середнє значення або стандартне відхилення) дорівнює деякому заявленому значенню. \n",
        "Визначаємо:\n",
        " * відхиляемо нульову гіпотезу, \n",
        " * не відхиляємо нульову гіпотезу.\n",
        " Нульову гіпотезу позначають $H_0$.\n",
        "\n",
        "Альтернативна гіпотеза: Альтернативна гіпотеза - це твердження, що параметр має значення, яке відрізняється від заявленого значення. Він позначається $H_A$."
      ]
    },
    {
      "cell_type": "code",
      "metadata": {
        "colab": {
          "base_uri": "https://localhost:8080/"
        },
        "id": "lsP7aCeYW1wM",
        "outputId": "44ff4253-32fc-4c5e-e67c-59a629efc6ed"
      },
      "source": [
        "import math\n",
        "import numpy as np\n",
        "from numpy.random import randn\n",
        "from statsmodels.stats.weightstats import ztest\n",
        "  \n",
        "# Generate a random array of 50 numbers having mean 110 and sd 15\n",
        "# similar to the IQ scores data we assume above\n",
        "mean_iq = 110\n",
        "sd_iq = 15/math.sqrt(50)\n",
        "alpha =0.05\n",
        "null_mean =100\n",
        "data = sd_iq*randn(50)+mean_iq\n",
        "# print mean and sd\n",
        "print('mean=%.2f stdv=%.2f' % (np.mean(data), np.std(data)))\n",
        "  \n",
        "# now we perform the test. In this function, we passed data, in value parameter\n",
        "# we passed mean value in the null hypothesis, in alternative hypothesis we check whether the\n",
        "# mean is larger\n",
        "  \n",
        "ztest_Score, p_value= ztest(data,value = null_mean, alternative='larger')\n",
        "# the function outputs a p_value and z-score corresponding to that value, we compare the \n",
        "# p-value with alpha, if it is greater than alpha then we do not null hypothesis \n",
        "# else we reject it.\n",
        "  \n",
        "if(p_value <  alpha):\n",
        "  print(\"Reject Null Hypothesis\")\n",
        "else:\n",
        "  print(\"Fail to Reject NUll Hypothesis\")"
      ],
      "execution_count": 1,
      "outputs": [
        {
          "output_type": "stream",
          "text": [
            "/usr/local/lib/python3.7/dist-packages/statsmodels/tools/_testing.py:19: FutureWarning: pandas.util.testing is deprecated. Use the functions in the public API at pandas.testing instead.\n",
            "  import pandas.util.testing as tm\n"
          ],
          "name": "stderr"
        },
        {
          "output_type": "stream",
          "text": [
            "mean=109.86 stdv=2.08\n",
            "Reject Null Hypothesis\n"
          ],
          "name": "stdout"
        }
      ]
    },
    {
      "cell_type": "markdown",
      "metadata": {
        "id": "EIxW9arvpCgD"
      },
      "source": [
        "#[T-тест](https://ua.nesrakonk.ru/t-test/)"
      ]
    },
    {
      "cell_type": "code",
      "metadata": {
        "id": "5ghjvBx-VwdZ",
        "colab": {
          "base_uri": "https://localhost:8080/",
          "height": 70
        },
        "outputId": "636191c1-7588-445f-ef91-52e2409ca584"
      },
      "source": [
        "'''\n",
        "from scipy.stats import ttest_1samp\n",
        "import numpy as np\n",
        "ages = np.genfromtxt('ages.csv')\n",
        "print(ages)\n",
        "ages_mean = np.mean(ages)\n",
        "print(ages_mean)\n",
        "tset, pval = ttest_1samp(ages, 30)\n",
        "print('p-values',pval)\n",
        "if pval < 0.05:    # alpha value is 0.05 or 5%\n",
        "   print(\" we are rejecting null hypothesis\")\n",
        "else:\n",
        "  print(\"we are accepting null hypothesis\")\n",
        "'''"
      ],
      "execution_count": 5,
      "outputs": [
        {
          "output_type": "execute_result",
          "data": {
            "application/vnd.google.colaboratory.intrinsic+json": {
              "type": "string"
            },
            "text/plain": [
              "'\\nfrom scipy.stats import ttest_1samp\\nimport numpy as np\\nages = np.genfromtxt(\\'ages.csv\\')\\nprint(ages)\\nages_mean = np.mean(ages)\\nprint(ages_mean)\\ntset, pval = ttest_1samp(ages, 30)\\nprint(\\'p-values\\',pval)\\nif pval < 0.05:    # alpha value is 0.05 or 5%\\n   print(\" we are rejecting null hypothesis\")\\nelse:\\n  print(\"we are accepting null hypothesis\")\\n'"
            ]
          },
          "metadata": {
            "tags": []
          },
          "execution_count": 5
        }
      ]
    },
    {
      "cell_type": "markdown",
      "metadata": {
        "id": "22FkWkrf-tCz"
      },
      "source": [
        "#Хи квадрат $( \\chi ^2)$\n"
      ]
    },
    {
      "cell_type": "code",
      "metadata": {
        "id": "cXzBshLubdF8"
      },
      "source": [
        "import pandas as pd\n",
        "import scipy\n",
        "#test data\n",
        "df = pd.DataFrame({'a' : ['b', 'b','a', 'a' , 'a', 'a', 'a', 'a' , 'a', 'a','a', 'a', 'b', 'b', 'b', 'b', 'b', 'a','a','a', 'b', 'b', 'b', 'b', 'b', 'b', 'b', 'a', 'a'],\n",
        "'b' : ['c','c', 'c','c', 'c', 'c','c', 'c', 'c','d' , 'd'  , 'd' , 'd' , 'd', 'd',  'c', 'd', 'c', 'd', 'c', 'd', 'c', 'd', 'c', 'd', 'c', 'd', 'c', 'd']})\n",
        "#2 columns: a и b \n",
        "#4 feature a,b,c,d.\n",
        "ct = pd.crosstab(df['a'], df['b'])\n",
        "print(ct)\n",
        "table = [ [ 10, 5 ], [ 6, 8 ] ]\n",
        "chi2, prob, df, expected = scipy.stats.chi2_contingency(table)\n",
        "output = \"test Statistics:\\nchi2 {}\\ndegrees of freedom: {}\\np-value: {}\\n\"\n",
        "print(output.format( chi2, df, prob))\n",
        "print(expected)"
      ],
      "execution_count": null,
      "outputs": []
    },
    {
      "cell_type": "markdown",
      "metadata": {
        "id": "ECIdzPZ7CruW"
      },
      "source": [
        "#F-test"
      ]
    },
    {
      "cell_type": "code",
      "metadata": {
        "colab": {
          "base_uri": "https://localhost:8080/",
          "height": 361
        },
        "id": "0Frvy8hpu10D",
        "outputId": "c23e3e77-4513-4169-b70e-2de2a572804d"
      },
      "source": [
        "import numpy as np\n",
        "\n",
        "x = [18, 19, 22, 25, 27, 28, 41, 45, 51, 55]\n",
        "y = [14, 15, 15, 17, 18, 22, 25, 25, 27, 34]\n",
        "\n",
        "#define F-test function\n",
        "def f_test(x, y):\n",
        "    x = np.array(x)\n",
        "    y = np.array(y)\n",
        "    f = np.var(x, ddof=1)/np.var(y, ddof=1) #calculate F test statistic \n",
        "    dfn = x.size-1 #define degrees of freedom numerator \n",
        "    dfd = y.size-1 #define degrees of freedom denominator \n",
        "    p = 1 - scipy.stats.f.cdf(f, dfn, dfd)\n",
        "    return f, p\n",
        "\n",
        "#perform F-test\n",
        "f, p = f_test(x, y)\n",
        "print(f,p)\n",
        "\n",
        "alpha = 0.05 #Or whatever you want your alpha to be.\n",
        "if p < alpha:\n",
        "    print('Reject the null hypothesis that Var(X) == Var(Y)', p)\n",
        "else:\n",
        "    print('NOT Reject the null hypothesis', p)\n"
      ],
      "execution_count": 16,
      "outputs": [
        {
          "output_type": "error",
          "ename": "NameError",
          "evalue": "ignored",
          "traceback": [
            "\u001b[0;31m---------------------------------------------------------------------------\u001b[0m",
            "\u001b[0;31mNameError\u001b[0m                                 Traceback (most recent call last)",
            "\u001b[0;32m<ipython-input-16-9cfeebbef032>\u001b[0m in \u001b[0;36m<module>\u001b[0;34m()\u001b[0m\n\u001b[1;32m     15\u001b[0m \u001b[0;34m\u001b[0m\u001b[0m\n\u001b[1;32m     16\u001b[0m \u001b[0;31m#perform F-test\u001b[0m\u001b[0;34m\u001b[0m\u001b[0;34m\u001b[0m\u001b[0;34m\u001b[0m\u001b[0m\n\u001b[0;32m---> 17\u001b[0;31m \u001b[0mf\u001b[0m\u001b[0;34m,\u001b[0m \u001b[0mp\u001b[0m \u001b[0;34m=\u001b[0m \u001b[0mf_test\u001b[0m\u001b[0;34m(\u001b[0m\u001b[0mx\u001b[0m\u001b[0;34m,\u001b[0m \u001b[0my\u001b[0m\u001b[0;34m)\u001b[0m\u001b[0;34m\u001b[0m\u001b[0;34m\u001b[0m\u001b[0m\n\u001b[0m\u001b[1;32m     18\u001b[0m \u001b[0mprint\u001b[0m\u001b[0;34m(\u001b[0m\u001b[0mf\u001b[0m\u001b[0;34m,\u001b[0m\u001b[0mp\u001b[0m\u001b[0;34m)\u001b[0m\u001b[0;34m\u001b[0m\u001b[0;34m\u001b[0m\u001b[0m\n\u001b[1;32m     19\u001b[0m \u001b[0;34m\u001b[0m\u001b[0m\n",
            "\u001b[0;32m<ipython-input-16-9cfeebbef032>\u001b[0m in \u001b[0;36mf_test\u001b[0;34m(x, y)\u001b[0m\n\u001b[1;32m     11\u001b[0m     \u001b[0mdfn\u001b[0m \u001b[0;34m=\u001b[0m \u001b[0mx\u001b[0m\u001b[0;34m.\u001b[0m\u001b[0msize\u001b[0m\u001b[0;34m-\u001b[0m\u001b[0;36m1\u001b[0m \u001b[0;31m#define degrees of freedom numerator\u001b[0m\u001b[0;34m\u001b[0m\u001b[0;34m\u001b[0m\u001b[0m\n\u001b[1;32m     12\u001b[0m     \u001b[0mdfd\u001b[0m \u001b[0;34m=\u001b[0m \u001b[0my\u001b[0m\u001b[0;34m.\u001b[0m\u001b[0msize\u001b[0m\u001b[0;34m-\u001b[0m\u001b[0;36m1\u001b[0m \u001b[0;31m#define degrees of freedom denominator\u001b[0m\u001b[0;34m\u001b[0m\u001b[0;34m\u001b[0m\u001b[0m\n\u001b[0;32m---> 13\u001b[0;31m     \u001b[0mp\u001b[0m \u001b[0;34m=\u001b[0m \u001b[0;36m1\u001b[0m \u001b[0;34m-\u001b[0m \u001b[0mscipy\u001b[0m\u001b[0;34m.\u001b[0m\u001b[0mstats\u001b[0m\u001b[0;34m.\u001b[0m\u001b[0mf\u001b[0m\u001b[0;34m.\u001b[0m\u001b[0mcdf\u001b[0m\u001b[0;34m(\u001b[0m\u001b[0mf\u001b[0m\u001b[0;34m,\u001b[0m \u001b[0mdfn\u001b[0m\u001b[0;34m,\u001b[0m \u001b[0mdfd\u001b[0m\u001b[0;34m)\u001b[0m\u001b[0;34m\u001b[0m\u001b[0;34m\u001b[0m\u001b[0m\n\u001b[0m\u001b[1;32m     14\u001b[0m     \u001b[0;32mreturn\u001b[0m \u001b[0mf\u001b[0m\u001b[0;34m,\u001b[0m \u001b[0mp\u001b[0m\u001b[0;34m\u001b[0m\u001b[0;34m\u001b[0m\u001b[0m\n\u001b[1;32m     15\u001b[0m \u001b[0;34m\u001b[0m\u001b[0m\n",
            "\u001b[0;31mNameError\u001b[0m: name 'scipy' is not defined"
          ]
        }
      ]
    },
    {
      "cell_type": "markdown",
      "metadata": {
        "id": "2HPwfA10B7K1"
      },
      "source": [
        "#Тест Левене\n",
        "\n"
      ]
    },
    {
      "cell_type": "markdown",
      "metadata": {
        "id": "byO1ua8mSj-6"
      },
      "source": [
        "##Визначення\n",
        "Тест Левене — це статистика, яку використовують для оцінювання рівності дисперсій декількох вибірок. Він перевіряє нульову гіпотезу про рівність дисперсій вибірок (гомогенність дисперсії, або гомоскедастичність). Якщо p-значення тесту Левене менше певного критичного значення (зазвичай 0,05 або 0,01), то наявну різницю дисперсій вважають статистично значущою. Тому нульову гіпотезу про рівність дисперсій всіх вибірок відкидають і роблять висновок, що їх дисперсії є різними.\n",
        "\n",
        "До процедур, що вимагають припущення про гомогенність дисперсії, належать дисперсійний аналіз та t-критерій Стьюдента. Однією з переваг тесту Левене є те, що цей тест не вимагає нормального розподілу досліджуваних вибірок.\n",
        "\n",
        "---\n",
        "##Формальна специфікація##\n",
        "Тест Левене використовують для перевірки нульової гіпотези $H_0$ проти альтернативної гіпотези $H_1$\n",
        "\n",
        "$H_0:\\ \\ \\sigma_1=\\sigma_2=\\dots=\\sigma_k\\ \\ \\ vs\\ \\ \\ H_1: \\sigma_i\\ne\\sigma_j$ принаймні для однієї пари $(i,\\ j)$.\n",
        "\n",
        "Тестова статистика визначена наступним чином:\n",
        "$W = \\frac{(N-k)}{(k-1)} \\frac{\\sum_{i=1}^k N_i (Z_{i\\cdot}-Z_{\\cdot\\cdot})^2} {\\sum_{i=1}^k \\sum_{j=1}^{N_i} (Z_{ij}-Z_{i\\cdot})^2},$\n",
        "\n",
        "де\n",
        "* <math>W</math>&nbsp;— значення Статистики,\n",
        "* <math>k</math>&nbsp;— кількість різних груп до яких належать вибірки,\n",
        "* <math>N</math>&nbsp;— загальна кількість спостережень,\n",
        "* <math>N_i</math>&nbsp;— кількість спостережень в <math>i</math>-й групі,\n",
        "* <math>Y_{ij}</math>&nbsp;— значення <math>j</math>-го спостереження <math>i</math>-ї групи,\n",
        "* <math>Z_{ij} = \n",
        "$$\\begin{matrix} \n",
        "|Y_{ij} - \\bar{Y}_{i\\cdot}| \\\\ \n",
        "|Y_{ij} - \\tilde{Y}_{i\\cdot}| \n",
        "\\end{matrix}$$\n",
        "\n",
        "Тут $\\bar{Y}_{i\\cdot}$&nbsp;— математичне сподівання i-ї групи, а $\\tilde{Y}_{i\\cdot}$&nbsp;— медіана i-ї групи.\n",
        "* $Z_{\\cdot\\cdot} = \\frac{1}{N} \\sum_{i=1}^{k} \\sum_{j=1}^{N_i} Z_{ij}$ математичне сподівання всіх $Z_{ij}$,\n",
        "* $Z_{i\\cdot} = \\frac{1}{N_i} \\sum_{j=1}^{N_i} Z_{ij}$ математичне сподівання $Z_{ij}$ для групи з номером $i$.\n",
        "Значимість статистики $W$ тестують використовуючи $F(\\alpha,k-1,N-k)$ (квантиль рівня $ \\alpha$ розподілу Фішера), де <math>F</math>&nbsp;— квантиль розподілу фішера, з $k-1$ і $N-k$ ступенями свободи, $\\alpha$&nbsp;— обраний рівень надійності тесту (зазвичай 0.05 чи 0.01)."
      ]
    },
    {
      "cell_type": "code",
      "metadata": {
        "id": "hx9kPuNJQPQ5"
      },
      "source": [
        "import scipy.stats as stats\n",
        "group1 = [7, 14, 14, 13, 12, 9, 6, 14, 12, 8]\n",
        "group2 = [15, 17, 13, 15, 15, 13, 9, 12, 10, 8]\n",
        "group3 = [6, 8, 8, 9, 5, 14, 13, 8, 10, 9]\n",
        "\n",
        "median = stats.levene(group1, group2, group3, center='median')\n",
        "print(median)\n",
        "\n",
        "mean = stats.levene(group1, group2, group3, center='mean')\n",
        "print(mean)"
      ],
      "execution_count": null,
      "outputs": []
    },
    {
      "cell_type": "markdown",
      "metadata": {
        "id": "sZAEufBNVoOZ"
      },
      "source": [
        "##Висновок\n",
        "В обох методах значення р не менше 0,05. Це означає, що в обох випадках ми не зможемо відкинути нульову гіпотезу. Це означає, що ми не маємо достатніх доказів, щоб стверджувати, що різниця між трьома виборками суттєво відрізняється."
      ]
    },
    {
      "cell_type": "markdown",
      "metadata": {
        "id": "asEOvMpVIgJ3"
      },
      "source": [
        "#[A/B Тестування](https://awsmd.com/blog.html)\n",
        "\n",
        "A / B тестування - це базовий рандомізований контрольний експеримент. Це спосіб порівняти дві версії змінної, щоб з’ясувати, яка ефективніша в контрольованому середовищі.\n",
        "\n",
        "A / B тестування є одним з найвидатніших та широко використовуваних статистичних інструментів.\n",
        "\n",
        "Опис: робимо 2 виборки - А і В. Тут А залишатиметься незмінним, поки Ви вноситимете суттєві зміни в фактори які теоритично впинуть на В. \n",
        "Мета: на основі проведеного експерименту вирішити, чи призвели зміни до бажаного результату.\n",
        "\n",
        "Приклад:\n",
        "Спорт клуб хоче внести зміни у привітанні по телефону тренерами клієнтів та визначити вплив на кількість відвідувань тренажерного залу.\n",
        "\n",
        "Очікування: \n",
        "Нагадування про поредні досягнення будуть мотивувати клиентів відвідувати зал частіше.\n"
      ]
    },
    {
      "cell_type": "code",
      "metadata": {
        "colab": {
          "base_uri": "https://localhost:8080/"
        },
        "id": "d1RHc0-Xy-dI",
        "outputId": "5e0220c7-e65d-48c9-a3c2-ef135ff227af"
      },
      "source": [
        "!wget --no-check-certificate \\\n",
        "    https://cdn.analyticsvidhya.com/wp-content/uploads/2020/10/data.csv \\\n",
        "    -O /tmp/data.csv\n",
        "\n",
        "import pandas as pd\n",
        "import numpy as np\n",
        "import seaborn as sns\n",
        "import scipy.stats as ss \n",
        "\n",
        "data = pd.read_csv('/tmp/data.csv')\n",
        "#print(df)\n",
        "#sns.distplot(data.Conversion_A)\n",
        "#sns.distplot(data.Conversion_B)\n",
        "\n",
        "t_stat, p= ss.ttest_ind(data.Conversion_B,data.Conversion_A)\n",
        "print(t_stat , p)\n",
        "\n",
        "alpha = 0.05 #Or whatever you want your alpha to be.\n",
        "if p < alpha:\n",
        "    print('Reject the null hypothesis that Var(X) == Var(Y)', p)\n",
        "else:\n",
        "    print('NOT Reject the null hypothesis', p)\n"
      ],
      "execution_count": 15,
      "outputs": [
        {
          "output_type": "stream",
          "text": [
            "--2021-05-13 08:36:14--  https://cdn.analyticsvidhya.com/wp-content/uploads/2020/10/data.csv\n",
            "Resolving cdn.analyticsvidhya.com (cdn.analyticsvidhya.com)... 104.26.0.226, 104.26.1.226, 172.67.75.199, ...\n",
            "Connecting to cdn.analyticsvidhya.com (cdn.analyticsvidhya.com)|104.26.0.226|:443... connected.\n",
            "HTTP request sent, awaiting response... 200 OK\n",
            "Length: 408 [text/csv]\n",
            "Saving to: ‘/tmp/data.csv’\n",
            "\n",
            "\r/tmp/data.csv         0%[                    ]       0  --.-KB/s               \r/tmp/data.csv       100%[===================>]     408  --.-KB/s    in 0s      \n",
            "\n",
            "2021-05-13 08:36:14 (8.99 MB/s) - ‘/tmp/data.csv’ saved [408/408]\n",
            "\n",
            "3.78736793091929 0.000363796012828762\n",
            "Reject the null hypothesis that Var(X) == Var(Y) 0.000363796012828762\n"
          ],
          "name": "stdout"
        }
      ]
    },
    {
      "cell_type": "markdown",
      "metadata": {
        "id": "h3bLsWO33GXY"
      },
      "source": [
        "У нашому прикладі спостережуване значення, тобто середнє значення для тестової групи, становить 0,19. Гіпотетичне значення (середнє значення для контрольної групи) становить 0,16, обчислене р-значення = 0,00036.\n",
        "\n",
        "Отже, що все це означає для нашого A / B тестування?\n",
        "\n",
        "Тут наше p-значення менше рівня значущості, тобто 0,05. Отже, ми можемо відкинути нульову гіпотезу. Це означає, що під час тестування A / B привітання B працює ефективніше, ніж A. Тож наша рекомендація полягала б у тому, щоб замінити наше поточне вітання на B, щоб забезпечити більшу відвідуваність."
      ]
    },
    {
      "cell_type": "markdown",
      "metadata": {
        "id": "m-rbOAhM4D1r"
      },
      "source": [
        "##Яких помилок слід уникати, проводячи тестування A / B?\n",
        " * Недійсна гіпотеза: Весь експеримент залежить від одного, тобто гіпотези. Що слід змінити? Чому його слід змінювати, який очікуваний результат тощо? \n",
        "\n",
        " * Тестування занадто багатьох елементів разом: Експерти галузі застерігають не проводити занадто багато тестів одночасно. Тестування занадто багатьох елементів разом ускладнює визначення того, який елемент впливав на успіх чи невдачу. Таким чином, пріоритетність тестів є необхідною для успішного тестування A / B.\n",
        "\n",
        " * Ігнорування статистичної значимості: Неважливо, що ви очікуєте від тесту. Незалежно від того успішний чи невдалий тест, дозвольте йому завершитись, щоб отримати результати.\n",
        "\n",
        " * Не враховування зовнішніх факторів: Тести слід проводити у порівнянні періоди, щоб отримати значущі результати. Наприклад, несправедливо порівнювати трафік веб-сайтів у дні, коли він отримує найбільший трафік, із днями, коли він спостерігає найнижчий трафік через зовнішні фактори, такі як розпродаж чи свята\n",
        " \n",
        "\n",
        "## Коли слід застосовувати A / B тестування?\n",
        "Тестування A / B найкраще працює при тестуванні поступових змін, таких як зміни UX, нові функції, рейтинг та час завантаження сторінки. Тут ви можете порівняти результати до і після модифікації, щоб вирішити, чи працюють зміни за бажанням чи ні.\n",
        "\n",
        "Тестування A / B не спрацьовує при тестуванні значних змін, таких як нові продукти, нове брендування чи абсолютно новий досвід користувачів. У цих випадках можуть виникнути ефекти, які сприяють перевищенню звичайної залученості або емоційні реакції, які можуть спричинити поведінку користувачів по-іншому.\n",
        "\n",
        "##Висновок\n",
        "A / B тестування є щонайменше 100-річною статистичною методологією, але у своїй нинішній формі воно з’являється у 1990-х. Зараз це стало помітнішим завдяки Інтернет-середовищу та доступності великих даних. Компаніям простіше провести тест і використовувати результати для кращого досвіду роботи та продуктивності.\n",
        "\n",
        "Існує багато інструментів для проведення A / B тестування, але, будучи вченим з даних, ви повинні розуміти фактори, що працюють за цим. Крім того, ви повинні знати статистику, щоб підтвердити тест і довести його статистичну значимість.\n",
        "\n",
        "Щоб дізнатись більше про перевірку гіпотез, я запропоную вам прочитати таку статтю:\n",
        "\n",
        "Статистика для аналітики та науки про дані: Тестування гіпотез та Z-тест проти T-тесту\n",
        "\n",
        "[Приклад 1](https://robbiegeoghegan.medium.com/implementing-a-b-tests-in-python-514e9eb5b3a1)\n",
        "\n",
        "[Приклад 2](https://medium.com/@RenatoFillinich/ab-testing-with-python-e5964dd66143)\n",
        "\n",
        "[Приклад 3](https://towardsdatascience.com/a-simple-guide-to-a-b-testing-in-python-5235289dae57)\n",
        "\n",
        "[Порівняння](https://www.analyticsvidhya.com/blog/2020/06/statistics-analytics-hypothesis-testing-z-test-t-test/?utm_source=blog&utm_medium=ab-testing-data-science)\n",
        "\n",
        "[Бла-бла](https://dou.ua/lenta/articles/six-steps-of-ab-testing/)"
      ]
    },
    {
      "cell_type": "markdown",
      "metadata": {
        "id": "gpp-p-sqyaZ-"
      },
      "source": [
        "#Дисперсійний аналіз (ANOVA)\n",
        "\n",
        "Дисперсійний аналіз – статистичний метод виявлення на досліджувану випадкову величину (параметр) одночасної дії одного або декількох факторів.\n",
        "\n",
        "За кількістю оцінюваних факторів дисперсійний аналіз поділяють на одно-, дво- та багатофакторний.\n",
        "\n",
        "Кожен фактор може бути дискретною чи неперервною випадковою змінною, яку розділяють на декілька сталих рівнів (градацій, інтервалів). Якщо кількість вимірювань (проб, даних) на всіх рівнях кожного з факторів однакова, то дисперсійний аналіз називають рівномірним, інакше – нерівномірним.\n",
        "\n",
        "В основі дисперсійного аналізу є такий принцип (факт з математичної статистики): якщо на випадкову величину діють взаємно незалежні фактори A, B, …, то загальна дисперсія дорівнює сумі дисперсій, зумовлених дією окремо кожного з факторів:\n",
        "\n",
        " $$\\sigma^2 = \\sigma_A^2 + \\sigma_B^2 + \\ldots$$\n",
        "\n",
        "Цей метод ґрунтується на розділенні загальної дисперсії $\\sigma_T^2$ на складові, що відповідають впливу різних джерел мінливості $\\sigma_T^2 = \\sigma_C^2 + \\sigma_D^2$\n",
        "($\\sigma_C^2$ - фактор С, $\\sigma_D^2$ - залишкова дисперсія).\n",
        "\n",
        "Застосовувані критерії дають змогу одночасно вивчати відмінності як у середніх значеннях, так і в дисперсіях.\n",
        "\n",
        " "
      ]
    },
    {
      "cell_type": "code",
      "metadata": {
        "id": "mSu4puhw1MQT"
      },
      "source": [
        "#H0 (null hypothesis): μ1 = μ2 = μ3 = … = μk (all the population means are equal)\n",
        "#H1 (null hypothesis): at least one population mean is different from the rest\n",
        "from scipy.stats import f_oneway\n",
        "group1 = [85, 86, 88, 75, 78, 94, 98, 79, 71, 80]\n",
        "group2 = [91, 92, 93, 85, 87, 84, 82, 88, 95, 96]\n",
        "group3 = [79, 78, 88, 94, 92, 85, 83, 85, 82, 81]\n",
        "\n",
        "statictics, p = f_oneway(group1, group2, group3)\n",
        "\n",
        "alpha = 0.05 #Or whatever you want your alpha to be.\n",
        "if p < alpha:\n",
        "    print('Reject the null hypothesis H0', p)\n",
        "else:\n",
        "    print('NOT Reject the null hypothesis', p)\n"
      ],
      "execution_count": null,
      "outputs": []
    },
    {
      "cell_type": "markdown",
      "metadata": {
        "id": "dgDzC4mfQFDs"
      },
      "source": [
        "Будуть оновлення по\n",
        "\n",
        "Найменша значуща різниця (багаторазовий t-тест без альфа-корекції) - (LSD test ((Fisher's) Least Significant Difference test))\n",
        "\n",
        "Тест Бонферроні (багаторазовий t-тест з альфа-корекцією) - Bonferroni\n",
        "\n",
        "t-тест Сідака (Sidak)\n",
        "\n",
        "Тест Шеффе (Scheffe)\n",
        "\n",
        "Процедура Райана-Ейно-Габріеля-Велша, або F-тест (R-E-G-W-F)\n",
        "\n",
        "Процедура Райана-Ейно-Габріеля-Велша, або визначення стьюдентізірованного критерію розмаху вибірки (R-E-G-W-Q)\n",
        "\n",
        "Тест Стьюдента-Іьюмена-Кейлса (S-N-K)\n",
        "\n",
        "Тест Тьюки (Tukey)\n",
        "\n",
        "b Тьюки (Tukey's b)\n",
        "\n",
        "Тест Дункана (Duncari)\n",
        "\n",
        "GT2 Хохберг (Hochberg's GT2)\n",
        "\n",
        "Тест Габріеля (Gabriel)\n",
        "\n",
        "Тест Уоллера-Дункана (Waller-Duncan)\n",
        "\n",
        "t-тест Даннет, одно- і двосторонній (Dunnetf)\n",
        "\n",
        "Т2 Темхена (Tamehane's T2)\n",
        "\n",
        "ТЗ Даннет (Dunnett's ТЗ)\n",
        "\n",
        "Тест геймс-Ховелла (Games-Howell)\n",
        "\n",
        "З Даннет (Dunnett's С)."
      ]
    },
    {
      "cell_type": "markdown",
      "metadata": {
        "id": "ps81O18AO5Cd"
      },
      "source": [
        "Корисні посиллання\n",
        "\n",
        "http://www.machinelearning.ru/wiki/index.php?title=%D0%9F%D1%80%D0%BE%D0%B2%D0%B5%D1%80%D0%BA%D0%B0_%D1%81%D1%82%D0%B0%D1%82%D0%B8%D1%81%D1%82%D0%B8%D1%87%D0%B5%D1%81%D0%BA%D0%B8%D1%85_%D0%B3%D0%B8%D0%BF%D0%BE%D1%82%D0%B5%D0%B7\n",
        "\n",
        "https://towardsdatascience.com/hypothesis-testing-in-machine-learning-using-python-a0dc89e169ce\n",
        "\n",
        "https://www.statology.org/machine-learning-tutorials/\n",
        "\n",
        "https://towardsdatascience.com/hypothesis-testing-in-machine-learning-using-python-a0dc89e169ce"
      ]
    }
  ]
}
