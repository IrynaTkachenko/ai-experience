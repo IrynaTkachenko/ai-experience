{
  "nbformat": 4,
  "nbformat_minor": 0,
  "metadata": {
    "colab": {
      "name": "Statistics_2021_05_11.ipynb",
      "provenance": [],
      "collapsed_sections": [],
      "toc_visible": true,
      "authorship_tag": "ABX9TyNyBIsLCneo1ZqUoert8QKx",
      "include_colab_link": true
    },
    "kernelspec": {
      "name": "python3",
      "display_name": "Python 3"
    },
    "language_info": {
      "name": "python"
    }
  },
  "cells": [
    {
      "cell_type": "markdown",
      "metadata": {
        "id": "view-in-github",
        "colab_type": "text"
      },
      "source": [
        "<a href=\"https://colab.research.google.com/github/IrynaTkachenko/ai-experience/blob/main/Statistics_2021_05_11.ipynb\" target=\"_parent\"><img src=\"https://colab.research.google.com/assets/colab-badge.svg\" alt=\"Open In Colab\"/></a>"
      ]
    },
    {
      "cell_type": "markdown",
      "metadata": {
        "id": "vQAm281612-3"
      },
      "source": [
        "#Статистичні тести\n",
        "https://towardsdatascience.com/hypothesis-testing-in-machine-learning-using-python-a0dc89e169ce"
      ]
    },
    {
      "cell_type": "markdown",
      "metadata": {
        "id": "2HPwfA10B7K1"
      },
      "source": [
        "#Тест Левене\n",
        "Тест Левене — це статистика, яку використовують для оцінювання рівності дисперсій декількох вибірок. Він перевіряє нульову гіпотезу про рівність дисперсій вибірок (гомогенність дисперсії, або гомоскедастичність). Якщо p-значення тесту Левене менше певного критичного значення (зазвичай 0,05 або 0,01), то наявну різницю дисперсій вважають статистично значущою. Тому нульову гіпотезу про рівність дисперсій всіх вибірок відкидають і роблять висновок, що їх дисперсії є різними.\n",
        "\n",
        "До процедур, що вимагають припущення про гомогенність дисперсії, належать дисперсійний аналіз та t-критерій Стьюдента. Однією з переваг тесту Левене є те, що цей тест не вимагає нормального розподілу досліджуваних вибірок.\n",
        "\n",
        "Тест часто використовується перед порівнянням математичних сподівань."
      ]
    },
    {
      "cell_type": "markdown",
      "metadata": {
        "id": "ylLesTGOhfuB"
      },
      "source": [
        "#Z-тест\n",
        "\n",
        "https://ua.nesrakonk.ru/z-test/"
      ]
    },
    {
      "cell_type": "markdown",
      "metadata": {
        "id": "EIxW9arvpCgD"
      },
      "source": [
        "#T-тест\n",
        "\n",
        "https://ua.nesrakonk.ru/t-test/"
      ]
    },
    {
      "cell_type": "markdown",
      "metadata": {
        "id": "22FkWkrf-tCz"
      },
      "source": [
        "#Хи квадрат\n",
        "$$ \\chi ^2$$\n"
      ]
    },
    {
      "cell_type": "markdown",
      "metadata": {
        "id": "ECIdzPZ7CruW"
      },
      "source": [
        "#F-test"
      ]
    },
    {
      "cell_type": "markdown",
      "metadata": {
        "id": "asEOvMpVIgJ3"
      },
      "source": [
        "#A/B Тестування та ANOVA\n",
        "\n",
        "https://awsmd.com/blog.html"
      ]
    }
  ]
}