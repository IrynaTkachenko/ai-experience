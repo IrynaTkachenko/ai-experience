{
  "nbformat": 4,
  "nbformat_minor": 0,
  "metadata": {
    "colab": {
      "name": "Statistics_2021_05_03.ipynb",
      "provenance": [],
      "collapsed_sections": [],
      "authorship_tag": "ABX9TyP6LhwoLfujWp3vmWQWnzjS",
      "include_colab_link": true
    },
    "kernelspec": {
      "name": "python3",
      "display_name": "Python 3"
    },
    "language_info": {
      "name": "python"
    }
  },
  "cells": [
    {
      "cell_type": "markdown",
      "metadata": {
        "id": "view-in-github",
        "colab_type": "text"
      },
      "source": [
        "<a href=\"https://colab.research.google.com/github/IrynaTkachenko/ai-experience/blob/main/Statistics_2021_05_03.ipynb\" target=\"_parent\"><img src=\"https://colab.research.google.com/assets/colab-badge.svg\" alt=\"Open In Colab\"/></a>"
      ]
    },
    {
      "cell_type": "markdown",
      "metadata": {
        "id": "wTrJGC1y5X94"
      },
      "source": [
        "# Короткий довідник по написанню формул в Colab. \n",
        "\n",
        "Краще почитайте [це](https://mirror.datacenter.by/pub/mirrors/CTAN/info/lshort/ukrainian/lshort-ukr.pdf). "
      ]
    },
    {
      "cell_type": "markdown",
      "metadata": {
        "id": "e0Jm46aV6RbK"
      },
      "source": [
        "##Формула блоком\n",
        "\n",
        "Теорема Піфагора: $$a^{2}+b^{2}=c^{2}$$\n",
        "\n",
        "```\n",
        "$$ ... $$\n",
        "\\[ ... \\]\n",
        "\\begin{displaymath} ... \\end{displaymath}\n",
        "\\begin{equation} ... \\end{equation}\n",
        "\\begin{gather*} ... \\end{gather*}.\n",
        "```\n",
        "\n",
        "$$x = {-b \\pm \\sqrt{b^2-4ac} \\over 2a}$$\n",
        "\n",
        "\\begin{align}\n",
        "  x = {-b \\pm \\sqrt{b^2-4ac} \\over 2a}\n",
        "\\end{align}\n",
        "\n",
        "\\begin{align}\n",
        " \\begin{aligned}\n",
        "    2x+3 &= 7 & 2x+3-3 &= 7-3 \\\\\n",
        "    2x &= 4 & \\frac{2x}2 &= \\frac42\\\\\n",
        "    x &= 2\n",
        " \\end{aligned}\n",
        " \\end{align}"
      ]
    },
    {
      "cell_type": "markdown",
      "metadata": {
        "id": "J9sUAhmkArBi"
      },
      "source": [
        "## Букви грецького алфавіту\n",
        "\n",
        "\n",
        "\\alpha, \\beta, …, \\omega: \n",
        "$$\\alpha, \\beta, …, \\omega$$ \n",
        "\n",
        "\\Gamma, \\Delta, …, \\Omega\n",
        "$$ \\Gamma, \\Delta, …, \\Omega $$"
      ]
    },
    {
      "cell_type": "markdown",
      "metadata": {
        "id": "4yxOkn47dYaD"
      },
      "source": [
        "##Верхні та нижні індекси\n",
        "\n",
        "Використовуємо ^ та _ так \n",
        "\n",
        "x_i^2 : $$x_i^2$$\n",
        "x^{y^z}: $$x^{y^z}$$\n",
        "{x_i}^2: $${x_i}^2$$ \n",
        "x_{i^2}: $$x_{i^2}$$ "
      ]
    },
    {
      "cell_type": "markdown",
      "metadata": {
        "id": "Jvp-uugKfB1m"
      },
      "source": [
        "##Дужки\n",
        "\n",
        "$$()[]\\{\\}$$\n",
        "\n",
        "$$\\left(\\frac{\\sqrt x}{y^3}\\right)$$\n",
        "\n",
        "$$\\langle x \\rangle \n",
        "\\lceil x \\rceil \n",
        "\\lfloor x \\rfloor $$\n",
        "\n",
        "\\begin{align}\n",
        "\\Big( (x+1) * (x-1) \\Big)^{2}$\n",
        "\\end{align}\n",
        "\n",
        "\\begin{align}\n",
        "\\big(\\Big(\\bigg(\\Bigg(\n",
        "\\big\\}\\Big\\}\\bigg\\}\\Bigg\\}\n",
        "\\big\\|\\Big\\|\\bigg\\|\\Bigg\\|\n",
        "\\end{align}\n"
      ]
    },
    {
      "cell_type": "markdown",
      "metadata": {
        "id": "zRmn5z4LhcSb"
      },
      "source": [
        "##Дроби, суми, інтеграли та інше\n",
        "\n",
        "\\sum_1^n:\n",
        "$$\\sum_1^n$$\n",
        "\n",
        "\\sum_{i=0}^\\infty i^2:\n",
        "$$\\sum_{i=0}^\\infty i^2$$\n",
        "\n",
        "\\prod: \n",
        "$$\\prod_{i=0}^5 i$$\n",
        "\n",
        "\\lim_{x\\to 0}:\n",
        "$$\\lim_{x\\to 0}$$ \n",
        "\n",
        "\\begin{align}\n",
        "\\lim_{x \\rightarrow 0}\n",
        "\\frac{\\sin x}{x}=1\n",
        "\\end{align} \n",
        "\n",
        "\\begin{align}\n",
        "\\lim_{n \\to \\infty}\n",
        "\\sum_{k=1}^n \\frac{1}{k^2}\n",
        "= \\frac{\\pi^2}{6}\n",
        "\\end{align}\n",
        "\n",
        "\\int: \n",
        "$$\\int f(y)$$ \n",
        "\\bigcup: \n",
        "$$\\bigcup$$ \n",
        "\\bigcap: \n",
        "$$\\bigcap$$\n",
        "\n",
        "\\iint: \n",
        "$$\\iint$$ \n",
        "\n",
        "$$\\int\\!\\!\\!\\int_{D} g(x,y)$$\n",
        "\n",
        "\n"
      ]
    },
    {
      "cell_type": "markdown",
      "metadata": {
        "id": "PXClg3b8YegQ"
      },
      "source": [
        "## Системи рівнянь\n",
        "\\begin{align}\n",
        "y = \\left\\{ \\begin{array}{ll}\n",
        "a & \\textrm{якщо $d>c$}\\\\\n",
        "b+x & \\textrm{вранцi}\\\\\n",
        "l & \\textrm{решту дня}\n",
        "\\end{array} \\right.\n",
        "\\end{align}\n"
      ]
    },
    {
      "cell_type": "markdown",
      "metadata": {
        "id": "zlzaTPM3YISd"
      },
      "source": [
        "## Матриці\n",
        "\\begin{align}\n",
        "\\mathbf{X} =\n",
        "\\left( \\begin{array}{ccc}\n",
        "x_{11} & x_{12} & \\ldots \\\\\n",
        "x_{21} & x_{22} & \\ldots \\\\\n",
        "\\vdots & \\vdots & \\ddots\n",
        "\\end{array} \\right)\n",
        "\\end{align}\n",
        "\n",
        "\\begin{matrix}\n",
        "\\dot{x} & = & \\sigma(y-x) \\\\\n",
        "\\dot{y} & = & \\rho x - y - xz \\\\\n",
        "\\dot{z} & = & -\\beta z + xy\n",
        "\\end{matrix}"
      ]
    },
    {
      "cell_type": "markdown",
      "metadata": {
        "id": "32gl3fkRlQ8d"
      },
      "source": [
        "## Корені\n",
        "\n",
        "\\sqrt{x^3} *  \\sqrt[3]{\\frac xy}:\n",
        "$$\\sqrt{x^3} *  \\sqrt[3]{\\frac xy}$$\n"
      ]
    },
    {
      "cell_type": "markdown",
      "metadata": {
        "id": "SeMmld_m3Qq9"
      },
      "source": [
        "##Приклади \n",
        "\\begin{align}\n",
        "1 + \\left( \\frac{1}{ 1-x^{2} }\n",
        "\\right) ^3\n",
        "\\end{align}\n",
        "\n",
        "\\begin{align}\n",
        "{a,b,c}\\neq\\{a,b,c\\}\n",
        "\\end{align}\n",
        "\n",
        "\\begin{align}\n",
        "y(a,b) &= \\frac{(a+b )}{4} \n",
        "\\end{align}\n",
        "\n",
        "\\begin{align}\n",
        "f(x) &= x \\tag{1}, \\\\\n",
        "g(x) &= x^2 + 2 \\tag{2}\n",
        "\\end{align}\n",
        "\n",
        "\\begin{align}\n",
        "\\sum_{\\substack{0<i<n \\\\ 1<j<m}}\n",
        "P(i,j) =\n",
        "\\sum_{\\begin{subarray}{l} i\\in I \\\\ 1<j<m\\end{subarray}} \n",
        "Q(i,j)\n",
        "\\end{align}"
      ]
    },
    {
      "cell_type": "markdown",
      "metadata": {
        "id": "aTR04gn2Y80e"
      },
      "source": [
        "\\begin{eqnarray}\n",
        "f(x) & = & \\cos x \\\\\n",
        "f’(x) & = & -\\sin x \\\\\n",
        "\\int_{0}^{x} f(y)dy & = & \\sin x \\\\\n",
        "\\end{eqnarray}\n"
      ]
    }
  ]
}
